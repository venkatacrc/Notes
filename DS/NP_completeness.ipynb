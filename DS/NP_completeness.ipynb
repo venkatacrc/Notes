{
  "nbformat": 4,
  "nbformat_minor": 0,
  "metadata": {
    "colab": {
      "name": "NP-completeness.ipynb",
      "provenance": [],
      "include_colab_link": true
    },
    "kernelspec": {
      "name": "python3",
      "display_name": "Python 3"
    }
  },
  "cells": [
    {
      "cell_type": "markdown",
      "metadata": {
        "id": "view-in-github",
        "colab_type": "text"
      },
      "source": [
        "<a href=\"https://colab.research.google.com/github/venkatacrc/Notes/blob/master/DS/NP_completeness.ipynb\" target=\"_parent\"><img src=\"https://colab.research.google.com/assets/colab-badge.svg\" alt=\"Open In Colab\"/></a>"
      ]
    },
    {
      "cell_type": "markdown",
      "metadata": {
        "id": "xKmRwhjeYVfl",
        "colab_type": "text"
      },
      "source": [
        "## NP Completeness\n",
        "\n",
        "Source: https://gt-algorithms.com/\n",
        "\n",
        "Key Questions:\n",
        "* What's NP-completeness mean?\n",
        "* What's P=NP or P$\\neq$NP mean?\n",
        "* How do you show that a problem is intractable (unlikely to be solved efficiently?)?\n",
        "\n",
        "###Definitions\n",
        "P = class of all search problems that can be solved in polynomial time\n",
        "\n",
        "NP = class of all search problems (regardless of time required to solve)\n",
        "\n",
        "Hence, $P\\subset NP$\n",
        "\n",
        "What is a search problem?\n",
        ">Roughly, a problem where we can efficiently verify solutions. Given a solution we can verify this is a solution in Polynomial time.\n",
        "\n",
        "> Formally, Search problem has the following input/output form:\n",
        "Given instance I (e.g., graph G) we are asked to find a solution if one exists and if no solution exists we output No.\n",
        "\n",
        ">Additional requirement: If we are given a solution S for instance I, then we can verify (i.e. check) that S is a solution to I in time Polynomial in |I|.\n",
        "\n",
        "So P=NP or P$\\neq$NP addresses whether or not\n",
        "Solving a problem(i.e., constructing a solution) is as easy as verifying a solution.\n",
        "\n",
        "if $P=NP$: means that if we can verify solutions efficiently then we can construct solutions efficiently. (e.g., verifying a proof is as hard as constructing a proof)\n",
        "\n",
        "if $P\\neq NP$: means there are some search problems that can't be solved in Polynomial time.\n",
        "\n",
        "if $P\\neq NP$: What search problems can't be solved in Poly-time?\n",
        "\n",
        "NP-complete problems = Hardest problems in NP = Most difficult NP problem to solve.\n",
        "\n",
        "NP stands for non-determinstic polynomial time = problems that can be solved in poly-time on a non-deterministic machine.\n",
        "\n",
        "Non-deterministic means allowed to guess at each step(there exists a path to the accepting state)\n",
        "\n",
        "\n",
        "\n"
      ]
    }
  ]
}