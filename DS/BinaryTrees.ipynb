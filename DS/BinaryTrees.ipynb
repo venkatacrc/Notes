{
  "nbformat": 4,
  "nbformat_minor": 0,
  "metadata": {
    "colab": {
      "name": "BinaryTrees.ipynb",
      "provenance": [],
      "include_colab_link": true
    },
    "kernelspec": {
      "name": "python3",
      "display_name": "Python 3"
    }
  },
  "cells": [
    {
      "cell_type": "markdown",
      "metadata": {
        "id": "view-in-github",
        "colab_type": "text"
      },
      "source": [
        "<a href=\"https://colab.research.google.com/github/venkatacrc/Notes/blob/master/DS/BinaryTrees.ipynb\" target=\"_parent\"><img src=\"https://colab.research.google.com/assets/colab-badge.svg\" alt=\"Open In Colab\"/></a>"
      ]
    },
    {
      "cell_type": "markdown",
      "metadata": {
        "colab_type": "text",
        "id": "SUmztV-4i08k"
      },
      "source": [
        "##Binary Tree Traversals\n",
        "Source: [Leet Code](https://leetcode.com/explore/learn/card/data-structure-tree/)\n",
        "### Recursive and Iterative solutions\n",
        "It is a good practice to implement both styles to get a better understanding.\n",
        "### Pre-order Traversal\n",
        "$root\\rightarrow \\{left\\ sub\\ tree\\}\\rightarrow \\{right\\ sub\\ tree\\}$\n",
        "\n",
        "Given a binary tree, return the preorder traversal of its nodes' values.\n",
        "\n",
        "\n",
        "\n"
      ]
    },
    {
      "cell_type": "code",
      "metadata": {
        "id": "ICtJZXQzeVJ5",
        "colab_type": "code",
        "colab": {}
      },
      "source": [
        "# 144. Binary Tree Preorder Traversal - Recursive solution\n",
        "# Definition for a binary tree node.\n",
        "class TreeNode:\n",
        "    def __init__(self, x):\n",
        "        self.val = x\n",
        "        self.left = None\n",
        "        self.right = None\n",
        "\n",
        "class Solution:\n",
        "    def preorderTraversal(self, root: TreeNode) -> List[int]:\n",
        "        def helper(root: TreeNode, result) -> List[int]:\n",
        "            if root == None:\n",
        "                return\n",
        "            else:\n",
        "                result.append(root.val)\n",
        "                helper(root.left, result)\n",
        "                helper(root.right, result)\n",
        "        result = []\n",
        "        helper(root, result)\n",
        "        return result"
      ],
      "execution_count": 0,
      "outputs": []
    },
    {
      "cell_type": "code",
      "metadata": {
        "id": "qnI77LoKmdMZ",
        "colab_type": "code",
        "colab": {}
      },
      "source": [
        "# 144. Binary Tree Preorder Traversal \n",
        "# Iterative solution\n",
        "class Solution:\n",
        "    def preorderTraversal(self, root: TreeNode) -> List[int]:\n",
        "        stack = [root]\n",
        "        result = []\n",
        "        while stack:\n",
        "            node = stack.pop()   \n",
        "            if node:\n",
        "                result.append(node.val)\n",
        "                stack.append(node.right)\n",
        "                stack.append(node.left)\n",
        "        return result"
      ],
      "execution_count": 0,
      "outputs": []
    },
    {
      "cell_type": "markdown",
      "metadata": {
        "colab_type": "text",
        "id": "xFDNqAFHi7Uo"
      },
      "source": [
        "### In-order Traversal\n",
        "$\\{left\\ sub\\ tree\\}\\rightarrow root \\rightarrow \\{right\\ sub\\ tree\\}$\n",
        "Typically for a Binary Search Tree(BST) we can retrieve all the data in sorted order using in-order traversal.\n",
        "\n",
        "\n",
        "\n",
        "\n"
      ]
    },
    {
      "cell_type": "code",
      "metadata": {
        "id": "jsMQGIYhtI-U",
        "colab_type": "code",
        "colab": {}
      },
      "source": [
        "# 94. Binary Tree Inorder Traversal - Recursive\n",
        "\n",
        "class Solution:\n",
        "    def inorderTraversal(self, root: TreeNode) -> List[int]:\n",
        "        def helper(root: TreeNode, result) -> List[int]:\n",
        "            if root == None:\n",
        "                return\n",
        "            else:\n",
        "                helper(root.left, result)\n",
        "                result.append(root.val)\n",
        "                helper(root.right, result)\n",
        "        result = []\n",
        "        helper(root, result)\n",
        "        return result"
      ],
      "execution_count": 0,
      "outputs": []
    },
    {
      "cell_type": "code",
      "metadata": {
        "id": "4bA02pL6thr2",
        "colab_type": "code",
        "colab": {}
      },
      "source": [
        "# 94. Binary Tree Inorder Traversal - Iterative\n",
        "class Solution:\n",
        "    def inorderTraversal(self, root: TreeNode) -> List[int]:\n",
        "        stack = []\n",
        "        result = []\n",
        "        while True:\n",
        "            while root:\n",
        "                stack.append(root)\n",
        "                root = root.left\n",
        "            if not stack:\n",
        "                return result\n",
        "            node = stack.pop()\n",
        "            result.append(node.val)\n",
        "            root = node.right\n",
        "        return result"
      ],
      "execution_count": 0,
      "outputs": []
    },
    {
      "cell_type": "markdown",
      "metadata": {
        "id": "cthLBfgOtJjT",
        "colab_type": "text"
      },
      "source": [
        "### Post-order Traversal\n",
        "$\\{left\\ sub\\ tree\\}\\rightarrow   \\{right\\ sub\\ tree\\}\\rightarrow root$\n",
        "\n",
        "It is worth noting that when you delete nodes in a tree, deletion process will be in post-order. i.e. you delete its left child and its right child before you delete the node itself. Also, post-order is widely used in Reverse Polish Notation (RPN) to represent mathematical expressions. "
      ]
    },
    {
      "cell_type": "code",
      "metadata": {
        "id": "QXbqpmew2lQz",
        "colab_type": "code",
        "colab": {}
      },
      "source": [
        "# Definition for a binary tree node. - Recursive\n",
        "\n",
        "class Solution:\n",
        "    def postorderTraversal(self, root: TreeNode) -> List[int]:\n",
        "        def helper(root: TreeNode, result) -> List[int]:\n",
        "            if root == None:\n",
        "                return\n",
        "            else:\n",
        "                helper(root.left, result)                \n",
        "                helper(root.right, result)\n",
        "                result.append(root.val)\n",
        "        result = []\n",
        "        helper(root, result)\n",
        "        return result"
      ],
      "execution_count": 0,
      "outputs": []
    },
    {
      "cell_type": "code",
      "metadata": {
        "id": "iTMNQx2v3Xvv",
        "colab_type": "code",
        "colab": {}
      },
      "source": [
        ""
      ],
      "execution_count": 0,
      "outputs": []
    }
  ]
}