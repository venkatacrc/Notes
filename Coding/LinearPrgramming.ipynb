{
  "nbformat": 4,
  "nbformat_minor": 0,
  "metadata": {
    "colab": {
      "name": "LinearPrgramming.ipynb",
      "provenance": [],
      "include_colab_link": true
    },
    "kernelspec": {
      "name": "python3",
      "display_name": "Python 3"
    }
  },
  "cells": [
    {
      "cell_type": "markdown",
      "metadata": {
        "id": "view-in-github",
        "colab_type": "text"
      },
      "source": [
        "<a href=\"https://colab.research.google.com/github/venkatacrc/Notes/blob/master/DS/LinearPrgramming.ipynb\" target=\"_parent\"><img src=\"https://colab.research.google.com/assets/colab-badge.svg\" alt=\"Open In Colab\"/></a>"
      ]
    },
    {
      "cell_type": "markdown",
      "metadata": {
        "id": "hdGSZFNFNPaA",
        "colab_type": "text"
      },
      "source": [
        "##Linear Programming\n",
        "\n",
        "Optimization problems with linear objective function and linear constraints.\n",
        "\n",
        "Simple example:\n",
        "Company makes A & B, How much of each to produce to maximize profit?\n",
        "\n",
        "* Each unit of A makes a profit of 1 & each of B make 6.\n",
        "* Demand $\\le$ 300 units of A/day & $\\le$ 200 of B.\n",
        "* Supply: $\\le$ 700 hours/day, where A takes 1 hour/unit & B takes 3/unit.\n",
        "\n",
        "Variables $x_1 and x_2$ and where $x_i$ = number of units of item $i$ produced per day.\n",
        "Associated LP: Objective function: max $x_1.1 + x_2.6$\n",
        "Constraints:\n",
        "1. $x_1 \\le 300$\n",
        "1. $x_2 \\le 200$\n",
        "1. $x_1 \\ge 0$\n",
        "1. $x_2 \\ge 0$\n",
        "1. $x_1 + 3x_2 \\le 700$\n",
        "\n",
        "Allow $x_i$ to take fractional amount.\n",
        "5 constraints = linear inequality = half-space in 2 dimensions (since 2 variables).\n",
        "\n",
        "Goal find max C where $x_1 +6.x_2 = C$ intersects feasible region\n",
        "Optimum is C = 1300 from $(x_1,x_2) = (100,200)$.\n",
        "Optimum happens to occur at integer values, but may not always do so.\n",
        "\n",
        "Standard form for LP's:\n",
        ">Variables $x_1, \\cdots,x_n$\n",
        "\n",
        ">Max $c_1x_1+\\cdots+c_nx_n$\n",
        "\n",
        "s.t.\n",
        "\n",
        ">$a_11x_1 + \\cdots+a_1nx_n \\le b_1$\n",
        "\n",
        ">$\\ddots$\n",
        "\n",
        ">$a_n1x_1 + \\cdots+a_mnx_n \\le b_m$\n",
        "\n",
        ">$x_1,\\cdots,x_n\\ge 0$\n",
        "\n",
        "In linear algebra form:\n",
        "\n",
        ">Variable vector $x = \\left(\\begin{array}{c} x_1 \\\\ \\vdots \\\\ x_n \\end{array}\\right )$\n",
        "\n",
        ">Objective function $c = \\left(\\begin{array}{c} c_1 \\\\ \\vdots \\\\ c_n \\end{array}\\right )$\n",
        "\n",
        ">Max constraint matrix\n",
        "$A =\n",
        " \\begin{pmatrix}\n",
        "  a_{11} & a_{12} & \\cdots & a_{1n} \\\\\n",
        "  a_{21} & a_{22} & \\cdots & a_{2n} \\\\\n",
        "  \\vdots  & \\vdots  & \\ddots & \\vdots  \\\\\n",
        "  a_{m1} & a_{m2} & \\cdots & a_{mn}\n",
        " \\end{pmatrix}$\n",
        "\n",
        "Standard/Generic form for LPs:\n",
        "Max $c^Tx$\n",
        "$Ax\\le b$\n",
        "$x\\ge 0$\n",
        "\n",
        "How to convert into Standard form?\n",
        "Min $c^Tx \\Leftrightarrow max -c^Tx$\n",
        "$a_1x_1 + \\cdots+a_nx_n \\ge b \\Leftrightarrow -a_1x_1 - \\cdots - a_nx_n \\le b$\n",
        "\n",
        "$a_1x_1 + \\cdots +a_nx_n = b \\Leftrightarrow$ $a_1x_1 + \\cdots + a_nx_n \\le b$ and \n",
        "$a_1x_1 + \\cdots + a_nx_n \\ge b$\n",
        "\n",
        "Can't use strict inequalities:\n",
        "For example: max x\n",
        "S.t. x < 100\n",
        "What's the solution?\n",
        "\n",
        "For variable $x_i$ without lower bound ($x_i\\ge 0$) make 2 new variables \n",
        "$x_i^+ \\&\\ x_i^-$ and replace $x_i = x_i^+ - x_i^-$ where $x_i^+ \\ge 0 \\& x_i^- \\ge 0$"
      ]
    }
  ]
}