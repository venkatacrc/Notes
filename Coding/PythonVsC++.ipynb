{
  "nbformat": 4,
  "nbformat_minor": 0,
  "metadata": {
    "colab": {
      "name": "PythonVsC++.ipynb",
      "provenance": [],
      "authorship_tag": "ABX9TyPY4tZUmX8VFeU/VGOpZXBD",
      "include_colab_link": true
    },
    "kernelspec": {
      "name": "python3",
      "display_name": "Python 3"
    }
  },
  "cells": [
    {
      "cell_type": "markdown",
      "metadata": {
        "id": "view-in-github",
        "colab_type": "text"
      },
      "source": [
        "<a href=\"https://colab.research.google.com/github/venkatacrc/Notes/blob/master/Coding/PythonVsC%2B%2B.ipynb\" target=\"_parent\"><img src=\"https://colab.research.google.com/assets/colab-badge.svg\" alt=\"Open In Colab\"/></a>"
      ]
    },
    {
      "cell_type": "markdown",
      "metadata": {
        "id": "s0U9tEp2TS8Y",
        "colab_type": "text"
      },
      "source": [
        "#Python Vs C++\n",
        "\n",
        "Type | Python | C++\n",
        "---|---|---\n",
        "Comments | # or \"\"\" \"\"\" | // or /* continue until  */\n",
        "Type | implicit | explicit\n",
        "Nesting | Indentation | Curly braces\n",
        "Statements | either in function or toplevel| Must be inside of a function\n",
        "Statements ending| newlines|semicolon **;**\n",
        "stdout| print()| stream insertion operator **<<** and **endl** for newline\n",
        "Condition paranthesis| Optional|Mandatory\n",
        "for loop| for i in range(n) | for (int i = 0; i < n; i++)\n",
        "++ operator| No | Yes\n",
        "\n"
      ]
    },
    {
      "cell_type": "code",
      "metadata": {
        "id": "AKr7OnliVxn3",
        "colab_type": "code",
        "colab": {}
      },
      "source": [
        "# find whether the number is a perfect number\n",
        "def IsPerfectNumber(num:int) -> bool:\n",
        "    total = 0\n",
        "    for i in range(1, int(num/2)+1):\n",
        "        if not num % i:\n",
        "            total += i\n",
        "    return total == num\n",
        "\n",
        "# function to find 4 Perfect numbers\n",
        "def findPerfectNumbers():\n",
        "    num_perfect = 0\n",
        "    num = 1\n",
        "    while (num_perfect < 4):\n",
        "        if IsPerfectNumber(num):\n",
        "            print(\"Perfect Number = {}\".format(num))\n",
        "            num_perfect += 1\n",
        "        num += 1\n",
        "\n",
        "if __name__ == \"__main__\":\n",
        "    findPerfectNumbers()"
      ],
      "execution_count": 0,
      "outputs": []
    },
    {
      "cell_type": "code",
      "metadata": {
        "id": "IWpy9J9SWIzx",
        "colab_type": "code",
        "colab": {}
      },
      "source": [
        "#include<iostream>\n",
        "\n",
        "# function prototypes\n",
        "bool IsPerfectNumber(int number);\n",
        "\n",
        "int main() \n",
        "{\n",
        "    int num = 1;\n",
        "    int num_perfect = 0;\n",
        "    while(num_perfect < 4) {\n",
        "        if (IsPerfectNumber(num) == 1) {\n",
        "            std::cout << \"Perfect Number \" << num << std::endl;\n",
        "            num_perfect++;\n",
        "        }\n",
        "        num++;\n",
        "    }\n",
        "}\n",
        "\n",
        "# function to find 4 Perfect numbers\n",
        "bool IsPerfectNumber(int number){\n",
        "    int div_sum = 0;\n",
        "    for(int i=1; i<=number/2; i++) {\n",
        "        if (!(number % i)) {\n",
        "            div_sum += i;\n",
        "        }\n",
        "    }\n",
        "    if (div_sum == number) {\n",
        "        return 1;\n",
        "    } else {\n",
        "        return 0;\n",
        "    }\n",
        "}"
      ],
      "execution_count": 0,
      "outputs": []
    }
  ]
}