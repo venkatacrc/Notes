{
  "nbformat": 4,
  "nbformat_minor": 0,
  "metadata": {
    "colab": {
      "name": "Coding.ipynb",
      "provenance": [],
      "include_colab_link": true
    },
    "kernelspec": {
      "name": "python3",
      "display_name": "Python 3"
    }
  },
  "cells": [
    {
      "cell_type": "markdown",
      "metadata": {
        "id": "view-in-github",
        "colab_type": "text"
      },
      "source": [
        "<a href=\"https://colab.research.google.com/github/venkatacrc/Notes/blob/master/Coding/Coding.ipynb\" target=\"_parent\"><img src=\"https://colab.research.google.com/assets/colab-badge.svg\" alt=\"Open In Colab\"/></a>"
      ]
    },
    {
      "cell_type": "markdown",
      "metadata": {
        "id": "2OU7eKd7VGm5",
        "colab_type": "text"
      },
      "source": [
        "##[Code Signal](https://app.codesignal.com/interview-practice)\n",
        "\n",
        "### Arrays\n",
        "\n",
        "* First Duplicate\n",
        "* First Unique\n",
        "* Rotate Matrix by $90^0$\n",
        "* Sudoku\n",
        "* is Crypt Solution\n",
        "\n",
        "### Linked Lists\n",
        "* Remove K from List\n",
        "* Is List Palindrome?\n",
        "* add Two Huge Numbers\n",
        "* Merge Two Linked Lists\n",
        "* reverse Nodes in K Groups\n",
        "* rearrange Last N\n",
        "\n",
        "###Hash Tables\n",
        "* grouping Dishes\n",
        "* Are Following Patterns?\n",
        "* Contains Close Nums?\n",
        "* possible Sums\n",
        "* Swap Lex Order\n",
        "\n",
        "### Trees\n",
        "* Has Path Given Sum?\n",
        "* Is Tree Symmetric?\n",
        "* find Profession\n",
        "* kth Smallest BST\n",
        "* is SubTree\n",
        "* restore Binary Tree\n",
        "* find Substrings\n",
        "* delete from BST\n",
        "\n",
        "### DFS & BFS\n",
        "* traverse Tree\n",
        "* largest Values in Tree Rows\n",
        "* digit Tree Sum\n",
        "* Longest Path\n",
        "* graph Distances\n",
        "\n",
        "\n",
        "\n",
        "### Dynamic Programming\n",
        "* climbing Stairs\n",
        "* house Robber\n",
        "* compose Ranges\n",
        "* map Decoding\n",
        "* filling Blocks\n",
        "\n",
        "\n"
      ]
    },
    {
      "cell_type": "markdown",
      "metadata": {
        "id": "7RPVd0BVcpUg",
        "colab_type": "text"
      },
      "source": [
        "###Back Tracking\n",
        "\n",
        "DFS searches every node while backtracking doesn't visit branches that are not viable. Backtracking often combined with Dynamci Programming or a Divide-and-Conquer approach.\n",
        "\n",
        "Examples: Crossword puzzles, Sudoku solvers, Splitting strings, and Cryptarithmetic puzzles.\n",
        "\n",
        "* climbing Staircase\n",
        "* nQueens\n",
        "* sumSubsets\n",
        "* wordBoggle\n",
        "* combinationSum"
      ]
    },
    {
      "cell_type": "markdown",
      "metadata": {
        "id": "gPfoRuWaW3Qp",
        "colab_type": "text"
      },
      "source": [
        "\n",
        "\n",
        "```\n",
        "# Pseudo code using Recursion\n",
        "\n",
        "def doBackTrack(current):\n",
        "  if current is a solution:\n",
        "    return current\n",
        "  for each decision d from current:\n",
        "    new_state := state obtained from current by making decision d\n",
        "    if new_state is vialble:\n",
        "      sol := doBackTrack(new_state)\n",
        "      if sol is not None:\n",
        "        return sol\n",
        "  return None\n",
        "```\n",
        "\n",
        "\n",
        "\n",
        "```\n",
        "# Pseudo code for stack version\n",
        "\n",
        "def doBackTrack(current):\n",
        "  stack := init_state()\n",
        "  stack.push(start)\n",
        "  while not stack:\n",
        "    current = stack.pop()\n",
        "    if current is a solution:\n",
        "      return current\n",
        "    \n",
        "    for each decision d from current:\n",
        "      new_state := state obtained from current by making decison d\n",
        "      if new_state is viable:\n",
        "        stack.push(new_state)\n",
        "\n",
        "  return None\n",
        "```\n",
        "\n"
      ]
    },
    {
      "cell_type": "markdown",
      "metadata": {
        "id": "qJZECgsmPHX1",
        "colab_type": "text"
      },
      "source": [
        "### Common Techniques\n",
        "* contains Duplcates\n",
        "* sum of Two\n",
        "* sum in range\n",
        "* Max consecutive sum 2\n",
        "* find longest subarray by sum\n",
        "* product except self\n",
        "* min substring with all chars\n",
        "\n",
        "####**Binary Search**\n",
        "\n",
        "* Count the number of occurrences of a number in a sorted array.\n",
        "* Count the occurrences larger than, or smaller than, a given number\n",
        "* locate inputs of a function $f(x)$ without explicit array\n",
        "* Doing multiple searches for an item in a large array."
      ]
    },
    {
      "cell_type": "code",
      "metadata": {
        "id": "V5cdF8qnQDxL",
        "colab_type": "code",
        "colab": {}
      },
      "source": [
        "def binary_search(l, value):\n",
        "  min = 0\n",
        "  max = len(l) - 1\n",
        "  while min <= max:\n",
        "    guess = (min + max) // 2\n",
        "    if l[guess] > value:\n",
        "      max = guess - 1\n",
        "    elif l[guess] < value:\n",
        "      min = guess + 1\n",
        "    else:\n",
        "      return guess\n",
        "  return -1"
      ],
      "execution_count": 0,
      "outputs": []
    },
    {
      "cell_type": "markdown",
      "metadata": {
        "id": "aDgYWh_-Qqcn",
        "colab_type": "text"
      },
      "source": [
        "####**Two Pointers**\n",
        "\n",
        "* Comes up frequently with Singly-Linked Lists.\n",
        "* Have a fast-runner pointer and a slow-runner pointer, where the fast-runner is ahead of the slow-runner.\n",
        "* Have one pointer start at the beginning of the data structure and one pointer start at the end, moving towards each other until they meet.\n",
        "\n",
        "**Examples**\n",
        "\n",
        "* Remove duplicates from a sorted array.\n",
        "* Reverse the characters in a string.\n",
        "* reversing a linked list in place.\n",
        "* Detecting a cycle in a linked list."
      ]
    },
    {
      "cell_type": "markdown",
      "metadata": {
        "id": "CGzrT3R4TffD",
        "colab_type": "text"
      },
      "source": [
        "####**Prefix Sums**\n",
        "\n",
        "Prefix sum of an array $x$ is an array $y$ that can be calucluated as:\n",
        "\n",
        "$y_i = y_{i-1} + x_{i-1}$ for $i>0$ and $y_0 = 0$\n",
        "\n",
        "sum of elements $x_a + x_{a+1}+\\cdots + x_b$ = $y_{b+1} - y_b$\n",
        "\n",
        "**Examples**\n",
        "\n",
        "* Moving average of an array"
      ]
    },
    {
      "cell_type": "markdown",
      "metadata": {
        "id": "qbA_T7W8Dq84",
        "colab_type": "text"
      },
      "source": [
        "##[7 Steps to Solve Algorithm Problems](https://youtu.be/GKgAVjJxh9w)\n",
        "\n",
        "1. Listen carefully\n",
        "> Typically every detail is needed to solve problem. So if you solve a problem without using a detail, you might need that to solve it optimally.\n",
        "Q: Given two arrays (sorted + distinct), find number of elements in common. Sorted needed to solve optimally.\n",
        "1. Come up with a good example.\n",
        "> Large and avoid special cases\n",
        "1. Brute force algorithm\n",
        "> Better to have a brute force than nothing at all\n",
        "Because\n",
        "  * Checks that  you understand the problem\n",
        "  * Shows you're at least good enough to get that\n",
        "  * It's a good place to optimize from \n",
        "Don't Code Brute Force\n",
        "  1. State brute force\n",
        "  1. State runtime\n",
        "  1. Optimize  \n",
        "1. OPTIMIZE\n",
        "1. Walk through your algorithm\n",
        "> Know exactly what you're going to do before coding\n",
        "  * What variables & datastructures?\n",
        "  * How, when + why do they change?\n",
        "  * What is the structure of your code?\n",
        "1. Code\n",
        "> WhiteBoard\n",
        "  - Write Straight\n",
        "  - Use space wisely\n",
        "> Whiteboard or Computer\n",
        "  - Codin style matters\n",
        "    - consistent braces\n",
        "    - consistent variable naming\n",
        "    - consistent spaces\n",
        "    - descriptive variables\n",
        "  - MODULARIZE (before, not after!)\n",
        "```\n",
        "    def doSomething(a,b):\n",
        "        r = step1(a)\n",
        "        s = step2(b)\n",
        "        return step3(r, s)\n",
        "```\n",
        "1. Testing\n",
        "> * Analyse\n",
        "    * Think about each line\n",
        "    * Double check things that look weird/risky\n",
        "      (for loops decrement, math etc.)\n",
        "  * Use Test cases\n",
        "    * Start with small test cases\n",
        "        * Faster to run\n",
        "        * You will probably be more thorough\n",
        "    * edge cases\n",
        "    * Big test case\n",
        "  * Remember\n",
        "    * Think as you test\n",
        "      * don't be a bot\n",
        "    * Test your code, not your algorithm\n",
        "    * Think efore you fix bugs, Don't panic\n",
        "\n",
        "\n",
        "\n",
        "\n",
        "\n"
      ]
    },
    {
      "cell_type": "markdown",
      "metadata": {
        "id": "MmnL86FTVWHV",
        "colab_type": "text"
      },
      "source": [
        "###[3 Algorithms Strategies](https://youtu.be/84UYVCluClQ)\n",
        "\n",
        "1. B.U.D.\n",
        "> Walk through the Brute force or current algorithm and look for\n",
        "  - Bottlenecks\n",
        "    - example: Find common elements from 2 arrays A and In in common.\n",
        "      Brute force $O(A*B)$. Contains operation takes $O(B)$ and can be reduces to $O(1)$ using hash. Runtime reduces to $O(A+B)$ \n",
        "  - Unnecessary work\n",
        "    - example: $a^3 + b^3 = c^3 + d^3, 0 < a,b,c,d < 1000$\n",
        "      Find the one and only d?\n",
        "      $d = \\sqrt[3] {a^3 + b^3 + c^3}$\n",
        "  - Duplicated work\n",
        "1. Space/Time tradeoffs\n",
        "  * Always have Hashtables at the top of your mind\n",
        "1. DIY\n",
        "    * example: Find all permutations of small string s within big string b.\n",
        "      * Brute force: \n",
        "        1. create list of all permutaions of s\n",
        "        1. Find all within b\n",
        "        Time complexity O(s'b)\n",
        "        Use a large, generic example!\n",
        "\n"
      ]
    }
  ]
}