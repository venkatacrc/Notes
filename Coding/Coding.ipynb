{
  "nbformat": 4,
  "nbformat_minor": 0,
  "metadata": {
    "colab": {
      "name": "Coding.ipynb",
      "provenance": [],
      "include_colab_link": true
    },
    "kernelspec": {
      "name": "python3",
      "display_name": "Python 3"
    }
  },
  "cells": [
    {
      "cell_type": "markdown",
      "metadata": {
        "id": "view-in-github",
        "colab_type": "text"
      },
      "source": [
        "<a href=\"https://colab.research.google.com/github/venkatacrc/Notes/blob/master/DS/Coding.ipynb\" target=\"_parent\"><img src=\"https://colab.research.google.com/assets/colab-badge.svg\" alt=\"Open In Colab\"/></a>"
      ]
    },
    {
      "cell_type": "markdown",
      "metadata": {
        "id": "2OU7eKd7VGm5",
        "colab_type": "text"
      },
      "source": [
        "##[Code Signal](https://app.codesignal.com/interview-practice)\n",
        "\n",
        "### Arrays\n",
        "\n",
        "* First Duplicate\n",
        "* First Unique\n",
        "* Rotate Matrix by $90^0$\n",
        "* Sudoku\n",
        "* is Crypt Solution\n",
        "\n",
        "### Linked Lists\n",
        "* Remove K from List\n",
        "* Is List Palindrome?\n",
        "* add Two Huge Numbers\n",
        "* Merge Two Linked Lists\n",
        "* reverse Nodes in K Groups\n",
        "* rearrange Last N\n",
        "\n",
        "###Hash Tables\n",
        "* grouping Dishes\n",
        "* Are Following Patterns?\n",
        "* Contains Close Nums?\n",
        "* possible Sums\n",
        "* Swap Lex Order\n",
        "\n",
        "### Trees\n",
        "* Has Path Given Sum?\n",
        "* Is Tree Symmetric?\n",
        "* find Profession\n",
        "* kth Smallest BST\n",
        "* is SubTree\n",
        "* restore Binary Tree\n",
        "* find Substrings\n",
        "* delete from BST\n",
        "\n",
        "### DFS & BFS\n",
        "* traverse Tree\n",
        "* largest Values in Tree Rows\n",
        "* digit Tree Sum\n",
        "* Longest Path\n",
        "* graph Distances\n",
        "\n",
        "###Backtracking\n",
        "* climbing Staircase\n",
        "* nQueens\n",
        "* sumSubsets\n",
        "* wordBoggle\n",
        "* combinationSum\n",
        "\n",
        "### Dynamic Programming\n",
        "* climbing Stairs\n",
        "* house Robber\n",
        "* compose Ranges\n",
        "* map Decoding\n",
        "* filling Blocks\n",
        "\n",
        "### Common Techniques\n",
        "* contains Duplcates\n",
        "* sum of Two\n",
        "* sum in range\n",
        "* Max consecutive sum 2\n",
        "* find longest subarray by sum\n",
        "* product except self\n",
        "* min substring with all chars\n"
      ]
    },
    {
      "cell_type": "markdown",
      "metadata": {
        "id": "7RPVd0BVcpUg",
        "colab_type": "text"
      },
      "source": [
        "###Back Tracking\n",
        "\n",
        "DFS searches every node while backtracking doesn't visit branches that are not viable. Backtracking often combined with Dynamci Programming or a Divide-and-Conquer approach.\n",
        "\n",
        "Examples: Crossword puzzles, Sudoku solvers, Splitting strings, and Cryptarithmetic puzzles."
      ]
    },
    {
      "cell_type": "markdown",
      "metadata": {
        "id": "gPfoRuWaW3Qp",
        "colab_type": "text"
      },
      "source": [
        "\n",
        "\n",
        "```\n",
        "# Pseudo code using Recursion\n",
        "\n",
        "def doBackTrack(current):\n",
        "  if current is a solution:\n",
        "    return current\n",
        "  for each decision d from current:\n",
        "    new_state := state obtained from current by making decision d\n",
        "    if new_state is vialble:\n",
        "      sol := doBackTrack(new_state)\n",
        "      if sol is not None:\n",
        "        return sol\n",
        "  return None\n",
        "```\n",
        "\n",
        "\n",
        "\n",
        "```\n",
        "# Pseudo code for stack version\n",
        "\n",
        "def doBackTrack(current):\n",
        "  stack := init_state()\n",
        "  stack.push(start)\n",
        "  while not stack:\n",
        "    current = stack.pop()\n",
        "    if current is a solution:\n",
        "      return current\n",
        "    \n",
        "    for each decision d from current:\n",
        "      new_state := state obtained from current by making decison d\n",
        "      if new_state is viable:\n",
        "        stack.push(new_state)\n",
        "\n",
        "  return None\n",
        "```\n",
        "\n"
      ]
    }
  ]
}