{
  "nbformat": 4,
  "nbformat_minor": 0,
  "metadata": {
    "colab": {
      "name": "OOAD.ipynb",
      "provenance": [],
      "include_colab_link": true
    },
    "kernelspec": {
      "name": "python3",
      "display_name": "Python 3"
    }
  },
  "cells": [
    {
      "cell_type": "markdown",
      "metadata": {
        "id": "view-in-github",
        "colab_type": "text"
      },
      "source": [
        "<a href=\"https://colab.research.google.com/github/venkatacrc/Notes/blob/master/Coding/OOAD.ipynb\" target=\"_parent\"><img src=\"https://colab.research.google.com/assets/colab-badge.svg\" alt=\"Open In Colab\"/></a>"
      ]
    },
    {
      "cell_type": "markdown",
      "metadata": {
        "id": "bZMB_OOK0NZp",
        "colab_type": "text"
      },
      "source": [
        "#Object Oriented Design and Analysis\n",
        "Source: [ATM Simulation](http://www.cs.gordon.edu/courses/cs211/ATMExample/index.html)\n",
        "\n",
        "Requirements $\\rightarrow$ Analysis $\\rightarrow$ Overall Design $\\rightarrow$ Detailed Design  $\\rightarrow$ Implementation $\\rightarrow$ Testing $\\rightarrow$ Maintenance\n",
        "\n",
        "**Analysis** is done by identifying use cases and detailing the flow of events for each. Culminates in identifying classes implied by the use cases, and documenting them using an Analysis Class Diagram.\n",
        "\n",
        "The static structure of the design is summarized by means of an overall Class Diagram. Then the dynamic aspects of te design are developed, using State Charts for the major controller classes, plus an Interacton Diagram for each of the main use cases.\n",
        "\n",
        "\n",
        "##REQUIREMENTS\n",
        "* Card Reader\n",
        "* Keyboard & Dsiplay\n",
        "* Slot for depositing envelopes\n",
        "* Cash dispenser\n",
        "* Receipt printer\n",
        "* Start/Stop switch\n",
        "* Bank communication link\n",
        "\n",
        "ATM will service one customer at a time. Customer authentication using ATM card and PIN validaton.\n",
        "\n",
        "ATM services:\n",
        "1. Cash withdrawal\n",
        "1. Make a deposit - and manual verification for envelop removal by operator\n",
        "1. transfre money betweek accounts\n",
        "1. Balance inquiry\n",
        "1. Abort a transaction in progress with Cancel Key\n",
        "1. Print receipt for successful transacton upon user request\n",
        "1. start and stop servicing of customers\n",
        "1. Able to hardware and other failures\n",
        "\n",
        "## ANALYSIS\n",
        "\n",
        "###Use Cases\n",
        "\n",
        "Actors:\n",
        "* Operator $\\rightarrow$ System Startup or System Shutdown\n",
        "* Customer $\\leftrightarrow$ Session $\\leftrightarrow$ Bank\n",
        "* Transaction $\\leftarrow$ Withdrawal, Deposit, Transfer, Inquiry, Invalid PIN\n",
        "\n",
        "Flow of Events\n",
        "\n",
        "Initial Functional Test Cases\n",
        "\n",
        "###Analysis of Classes\n",
        "\n",
        "* A controller object representing the ATM itself(managing the boundary objects)\n",
        "* Boundary objects representing the individual component parts of the ATM\n",
        "  * Operator panel\n",
        "  * Card reader\n",
        "  * Customer console (display and keyboard)\n",
        "  * Network connection to the bank\n",
        "  * Cash dispenser\n",
        "  * Envelop acceptor\n",
        "  * Receipt printer\n",
        "* Controller objects corresponding to use cases.\n",
        "  * Session\n",
        "  * Transaction (abstract generalization, responsible for common features, with concrete specializations responsible for type-specific portions)\n",
        "* An entity object representing the information encoded on the ATM card inserted by customer.\n",
        "* An entity object representing the log of transactions maintained by the machine.\n",
        "\n",
        "## DESIGN\n",
        "\n",
        "###Class-Responsibility-Collaboration cards\n",
        "* Class ATM\n",
        "* Boundary/entity objects - component parts of the ATM\n",
        "  * Class OperatorPanel\n",
        "  * Class CardReader\n",
        "  * Class CustomerConsole\n",
        "  * Class NetworkToBank\n",
        "  * Class CashDispenser\n",
        "  * Class EnvelopAcceptor\n",
        "  * Class ReceiptPrinter\n",
        "  * Class Log\n",
        "* Controller objects corresponding to use cases.\n",
        "  * Class Session\n",
        "  * Class Transaction\n",
        "  * Class Withdrawal\n",
        "  * Class Deposit\n",
        "  * Class Transfer\n",
        "  * Class Inquiry\n",
        "* Entity objects found necessary when assigning responsbilities to other objects\n",
        "  * Class Balances\n",
        "  * Class Card\n",
        "  * Class Message\n",
        "  * Class Receipt\n",
        "  * Class Status\n",
        "\n",
        "### Class Diagram\n",
        "\n",
        "![UML](https://drive.google.com/uc?export=view&id=1aX7Ray6NKEc7ffMppC7lskouc87N4huX)\n",
        "\n",
        "![](https://drive.google.com/uc?export=view&id=17sW4FSMHS4w7u83b27yHdR8nsPuQ5uh0)"
      ]
    },
    {
      "cell_type": "markdown",
      "metadata": {
        "id": "6gZKmhrrtR75",
        "colab_type": "text"
      },
      "source": [
        "###State Charts\n"
      ]
    }
  ]
}