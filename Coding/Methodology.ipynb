{
  "nbformat": 4,
  "nbformat_minor": 0,
  "metadata": {
    "colab": {
      "name": "Methodology.ipynb",
      "provenance": [],
      "include_colab_link": true
    },
    "kernelspec": {
      "name": "python3",
      "display_name": "Python 3"
    }
  },
  "cells": [
    {
      "cell_type": "markdown",
      "metadata": {
        "id": "view-in-github",
        "colab_type": "text"
      },
      "source": [
        "<a href=\"https://colab.research.google.com/github/venkatacrc/Notes/blob/master/Coding/Methodology.ipynb\" target=\"_parent\"><img src=\"https://colab.research.google.com/assets/colab-badge.svg\" alt=\"Open In Colab\"/></a>"
      ]
    },
    {
      "cell_type": "markdown",
      "metadata": {
        "id": "SXw8mUrqPxfF",
        "colab_type": "text"
      },
      "source": [
        "## Software Architecture\n",
        "\n",
        "###What is Software Architecture?\n",
        "SWA is a level of design that involves:\n",
        "  * description of elements from which systems are build [WHAT]\n",
        "  * interactions among those elements\n",
        "  * Patterns that guide their decomposition\n",
        "  * Constraints on these patterns\n",
        "\n",
        "##Architectural degradation\n",
        "* **Architectural Drift**: Introduction of architectural design decisions orthogonal to a system's prescriptive architecture.\n",
        "* **Architectural Erosion**: Introduction of architectural design decisions that violate a system's prescriptive architecture.\n",
        "\n",
        "\n",
        "\n",
        "\n",
        "\n",
        "\n",
        "\n"
      ]
    },
    {
      "cell_type": "markdown",
      "metadata": {
        "id": "mw8Z7r4V4Ngz",
        "colab_type": "text"
      },
      "source": [
        "#Code Complete\n",
        "\n",
        "Levels of Design\n",
        "\n",
        "1. Software System\n",
        "1. Division into subsystems/packages\n",
        "1. Division into classes within packages\n",
        "1. Division into data and routines within classes\n",
        "1. Internal routine design\n",
        "\n",
        "Architectural Patterns are high level and abstract: Are at the module level and Address global concerns, such as security, performance, maintainability, etc. Ex: Model-View-Controller(MVC)\n",
        "\n",
        "##Working Classes\n",
        "\n",
        "A class is a collection of data and routines that share a cohesive, well-defined responsibility. A key to being an effective programmer is maximizing the portion of a program that you can safely ignore while working on any one section of code. Classes are the primary tool for accomplishing that objective.\n",
        "\n",
        "Thinking about ADTs first and classes second is an example of programming *into* a language. With ADT, programmers can create classes that are easier to implement initially and easier to modify over time.\n",
        "\n",
        "##Design Patterns\n",
        "Design patterns are low level and concrete: Are at class level and Address how classes are instantiated, structured, and orchestrated.\n",
        "* Creational\n",
        "* Structural\n",
        "* Behavioral\n",
        "\n",
        "###Creational Patterns\n",
        "Useful for Creating object(s)\n",
        "e.g.: restrict the number of objects instantiated from the same class\n",
        "* Singleton\n",
        "* Factory\n",
        "* Abstract Factory\n",
        "* Builder\n",
        "* Prototype\n",
        "\n",
        "###Structural Patterns\n",
        "Helpful to assemble classes and their instances\n",
        "* Decorator\n",
        "* Proxy\n",
        "* Adaptor\n",
        "* Composite\n",
        "* Bridge\n",
        "\n",
        "###Behavioral Patterns\n",
        "Regulate communications among objects\n",
        "* Observer\n",
        "* visitor\n",
        "* Iterator\n",
        "* Strategy\n",
        "* Chain of responsibility\n",
        "\n",
        "\n",
        "\n",
        "\n",
        "\n",
        "\n"
      ]
    },
    {
      "cell_type": "markdown",
      "metadata": {
        "id": "oozTaloO76Ac",
        "colab_type": "text"
      },
      "source": [
        "Basics of OOP language\n",
        "* Class\n",
        "* Attribute\n",
        "* Method\n",
        "* Constructor\n",
        "* Inheritance\n",
        "\n",
        "Save time and money, fosters reuse, sharing code base\n",
        "\n"
      ]
    },
    {
      "cell_type": "markdown",
      "metadata": {
        "id": "32xtbIqd_Tyn",
        "colab_type": "text"
      },
      "source": [
        "##Factory"
      ]
    },
    {
      "cell_type": "code",
      "metadata": {
        "id": "jy8p2_SwioLi",
        "colab_type": "code",
        "colab": {}
      },
      "source": [
        "class Dog:\n",
        "    def __init__(self, name):\n",
        "        self.name = name\n",
        "\n",
        "    def speak(self):\n",
        "        return \"Woof!\"\n",
        "\n",
        "class Cat:\n",
        "    def __init__(self, name):\n",
        "        self.name = name\n",
        "\n",
        "    def speak(self):\n",
        "        return \"Meow!\"\n",
        "\n",
        "def get_pet(pet=\"dog\"):\n",
        "\n",
        "    \"\"\"The factory method\"\"\"\n",
        "    pets = dict(dog=Dog('Hope'), cat=Cat('Peace'))\n",
        "\n",
        "    return pets[pet]\n",
        "\n",
        "d = get_pet('dog')\n",
        "print(d.speak())"
      ],
      "execution_count": 0,
      "outputs": []
    },
    {
      "cell_type": "markdown",
      "metadata": {
        "id": "PMTgdRs1irtO",
        "colab_type": "text"
      },
      "source": [
        "##Abstract Factory"
      ]
    },
    {
      "cell_type": "code",
      "metadata": {
        "id": "pzZH33q-ivHU",
        "colab_type": "code",
        "colab": {}
      },
      "source": [
        "class Dog:\n",
        "\t\"\"\"One of the objects to be returned\"\"\"\n",
        "\tdef speak(self):\n",
        "\t\treturn \"Woof!\"\n",
        "\n",
        "\tdef __str__(self):\n",
        "\t\treturn \"Dog\"\n",
        "\n",
        "class DogFactory:\n",
        "    \"\"\"Concrete Factory\"\"\"\n",
        "    def get_pet(self):\n",
        "        # Returns a Dog object\n",
        "        return Dog()\n",
        "    \n",
        "    def get_food(self):\n",
        "        # Returns a Dog food object\n",
        "        return \"Dog Food!\"\n",
        "\n",
        "class PetStore:\n",
        "    \"\"\"PetStore houses our Abstract Factory\"\"\"\n",
        "    def __init__(self, pet_factory=None):\n",
        "        # pet_factory is our Abstract Factory\n",
        "        self._pet_factory = pet_factory\n",
        "\n",
        "    def show_pet(self):\n",
        "        # Utility method to display the details of the objects returned by the DogFactory\n",
        "        pet = self._pet_factory.get_pet()\n",
        "        pet_food = self._pet_factory.get_food()\n",
        "        print(\"Our pet is '{}'!\".format(pet))\n",
        "        print(\"Our pet says hello by '{}'\".format(pet.speak()))\n",
        "        print(\"Its food is '{}'!\".format(pet_food))\n",
        "\n",
        "#Create a Concrete Factory\n",
        "factory = DogFactory()\n",
        "\n",
        "#Create a pet store housing our Abstract Factory\n",
        "shop = PetStore(factory)\n",
        "\n",
        "#Invoke the utility method to show the details of our pet\n",
        "shop.show_pet()"
      ],
      "execution_count": 0,
      "outputs": []
    },
    {
      "cell_type": "markdown",
      "metadata": {
        "id": "5ORMJo-DizfD",
        "colab_type": "text"
      },
      "source": [
        "##Singleton\n",
        "* Only one instance\n",
        "* Global variable in an object-oriented way"
      ]
    },
    {
      "cell_type": "code",
      "metadata": {
        "id": "r3j5lVXijP_P",
        "colab_type": "code",
        "colab": {}
      },
      "source": [
        "# The Borg Singleton pattern\n"
      ],
      "execution_count": 0,
      "outputs": []
    }
  ]
}