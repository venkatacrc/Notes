{
  "nbformat": 4,
  "nbformat_minor": 0,
  "metadata": {
    "colab": {
      "name": "TrapRainWater.ipynb",
      "provenance": [],
      "authorship_tag": "ABX9TyMDpdOhiCXJPMJGflGxBIOd",
      "include_colab_link": true
    },
    "kernelspec": {
      "name": "python3",
      "display_name": "Python 3"
    }
  },
  "cells": [
    {
      "cell_type": "markdown",
      "metadata": {
        "id": "view-in-github",
        "colab_type": "text"
      },
      "source": [
        "<a href=\"https://colab.research.google.com/github/venkatacrc/Notes/blob/master/Coding/TODO/TrapRainWater.ipynb\" target=\"_parent\"><img src=\"https://colab.research.google.com/assets/colab-badge.svg\" alt=\"Open In Colab\"/></a>"
      ]
    },
    {
      "cell_type": "markdown",
      "metadata": {
        "id": "ndpxbvspeG30",
        "colab_type": "text"
      },
      "source": [
        "```\n",
        "407. Trapping Rain Water II\n",
        "\n",
        "Given an m x n matrix of positive integers representing the height of each unit cell in a 2D elevation map,\n",
        "compute the volume of water it is able to trap after raining.\n",
        "\n",
        "Note:\n",
        "Both m and n are less than 110. \n",
        "The height of each unit cell is greater than 0 and is less than 20,000.\n",
        "\n",
        "Example:\n",
        "Given the following 3x6 height map:\n",
        "[\n",
        "  [1,4,3,1,3,2],\n",
        "  [3,2,1,3,2,4],\n",
        "  [2,3,3,2,3,1]\n",
        "]\n",
        "Return 4.\n",
        "```"
      ]
    },
    {
      "cell_type": "markdown",
      "metadata": {
        "id": "-UkZGQejjS2B",
        "colab_type": "text"
      },
      "source": [
        "##Approach 1\n",
        "\n",
        "This problem can be tackled as finding an island with min values surrounded by high value integers.\n",
        "\n"
      ]
    },
    {
      "cell_type": "code",
      "metadata": {
        "id": "gC0J76EEerH4",
        "colab_type": "code",
        "colab": {}
      },
      "source": [
        ""
      ],
      "execution_count": 0,
      "outputs": []
    }
  ]
}