{
  "nbformat": 4,
  "nbformat_minor": 0,
  "metadata": {
    "colab": {
      "name": "BigO.ipynb",
      "provenance": [],
      "include_colab_link": true
    },
    "kernelspec": {
      "name": "python3",
      "display_name": "Python 3"
    }
  },
  "cells": [
    {
      "cell_type": "markdown",
      "metadata": {
        "id": "view-in-github",
        "colab_type": "text"
      },
      "source": [
        "<a href=\"https://colab.research.google.com/github/venkatacrc/Notes/blob/master/Coding/BigO.ipynb\" target=\"_parent\"><img src=\"https://colab.research.google.com/assets/colab-badge.svg\" alt=\"Open In Colab\"/></a>"
      ]
    },
    {
      "cell_type": "markdown",
      "metadata": {
        "id": "F-u_Vxj9zKOY",
        "colab_type": "text"
      },
      "source": [
        "###Python Generators\n",
        "Performs lazy evaluation and do not generate data unless needed. Can generate infinite numbers without storing them in memory."
      ]
    },
    {
      "cell_type": "code",
      "metadata": {
        "id": "pLqGll8izjtE",
        "colab_type": "code",
        "colab": {}
      },
      "source": [
        "def factors(n):\n",
        "  k = 1\n",
        "  while k * k < n:\n",
        "    if n % k == 0:\n",
        "      yield k\n",
        "      yield n // k\n",
        "    k += 1\n",
        "  if k * k == n: # Special case to handle perfect squares numbers\n",
        "    yield k"
      ],
      "execution_count": 0,
      "outputs": []
    },
    {
      "cell_type": "markdown",
      "metadata": {
        "id": "aCGLTWkz0XEw",
        "colab_type": "text"
      },
      "source": [
        "###Python Comprehensions\n",
        "\n",
        "* list comprehension\n",
        "```[ k * k for k in range(1, n+1) ]```\n",
        "* set comprehension\n",
        "```{ k * k for k in range(1, n+1) }```\n",
        "* generator comprehension\n",
        "```x = ( k * k for k in range(1, n+1) )```\n",
        "> total = sum(x)\n",
        "* dictionary comprehension\n",
        "```{ k : k * k for k in range(1, n+1) }```\n",
        "\n",
        "\n",
        "  "
      ]
    },
    {
      "cell_type": "markdown",
      "metadata": {
        "id": "g3xxQFJR2sse",
        "colab_type": "text"
      },
      "source": [
        "**first-class objects** are instances of a type that can be assigned to an identifier, passed as a parameter, or returned by a function.\n",
        "\n",
        "## Design Patterns\n",
        "###Algorithm Design problems\n",
        "* Recursion\n",
        "* Amortization\n",
        "* Divide-and-Conquer\n",
        "* Prune-and-Search or Decrease-and-Conquer\n",
        "* Brute-force\n",
        "* Dynamic Programming\n",
        "* Greedy Method\n",
        "\n",
        "###Software Engineering Problems\n",
        "* Iterator\n",
        "* Adaptor\n",
        "* Position\n",
        "* Composition\n",
        "* Template Method\n",
        "* Locator\n",
        "* Factory Method\n"
      ]
    }
  ]
}