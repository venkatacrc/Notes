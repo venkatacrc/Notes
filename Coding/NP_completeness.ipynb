{
  "nbformat": 4,
  "nbformat_minor": 0,
  "metadata": {
    "colab": {
      "name": "NP-completeness.ipynb",
      "provenance": [],
      "include_colab_link": true
    },
    "kernelspec": {
      "name": "python3",
      "display_name": "Python 3"
    }
  },
  "cells": [
    {
      "cell_type": "markdown",
      "metadata": {
        "id": "view-in-github",
        "colab_type": "text"
      },
      "source": [
        "<a href=\"https://colab.research.google.com/github/venkatacrc/Notes/blob/master/Coding/NP_completeness.ipynb\" target=\"_parent\"><img src=\"https://colab.research.google.com/assets/colab-badge.svg\" alt=\"Open In Colab\"/></a>"
      ]
    },
    {
      "cell_type": "markdown",
      "metadata": {
        "id": "xKmRwhjeYVfl",
        "colab_type": "text"
      },
      "source": [
        "## NP Completeness\n",
        "\n",
        "Source: https://gt-algorithms.com/\n",
        "\n",
        "Key Questions:\n",
        "* What's NP-completeness mean?\n",
        "* What's P=NP or P$\\neq$NP mean?\n",
        "* How do you show that a problem is intractable (unlikely to be solved efficiently?)?\n",
        "\n",
        "###Definitions\n",
        "P = class of all search problems that can be solved in polynomial time\n",
        "\n",
        "NP = class of all search problems (regardless of time required to solve)\n",
        "\n",
        "Hence, $P\\subset NP$\n",
        "\n",
        "What is a search problem?\n",
        ">Roughly, a problem where we can efficiently verify solutions. Given a solution we can verify this is a solution in Polynomial time.\n",
        "\n",
        "> Formally, Search problem has the following input/output form:\n",
        "Given instance $I$ (e.g., graph $G$) we are asked to find a solution if one exists and if no solution exists we output No.\n",
        "\n",
        ">Additional requirement: If we are given a solution $S$ for instance $I$, then we can verify (i.e. check) that $S$ is a solution to I in time Polynomial in $|I|$.\n",
        "\n",
        "So $P=NP$ or $P\\neq NP$ addresses whether or not\n",
        "Solving a problem(i.e., constructing a solution) is as easy as verifying a solution.\n",
        "\n",
        "if $P=NP$: means that if we can verify solutions efficiently then we can construct solutions efficiently. (e.g., verifying a proof is as hard as constructing a proof)\n",
        "\n",
        "if $P\\neq NP$: means there are some search problems that can't be solved in Polynomial time.\n",
        "\n",
        "if $P\\neq NP$: What search problems can't be solved in Poly-time?\n",
        "\n",
        ">NP-complete problems = Hardest problems in NP = Most difficult NP problem to solve.\n",
        "\n",
        "NP stands for non-determinstic polynomial time = problems that can be solved in poly-time on a non-deterministic machine.\n",
        "\n",
        "Non-deterministic means allowed to guess at each step(there exists a path to the accepting state)\n",
        "\n",
        "\n",
        "\n"
      ]
    },
    {
      "cell_type": "markdown",
      "metadata": {
        "id": "IzjuUbfBVXeF",
        "colab_type": "text"
      },
      "source": [
        "###Examples of Search Problems\n",
        "####**k-Coloring**\n",
        "input: undirected G(V,E) & integer k>0.\n",
        "\n",
        "output: Assign each vertex to a color in {1,...,k} so that adjacent vertices get different colors, and output NO if no suck k-coloring exists for G.\n",
        "\n",
        "Given G & k-coloring $\\sigma$ (so $\\sigma(v)$ is the color for vertex $v$) then in O(|V|+|E|) time we can verify that $\\sigma$ is a valid coloring.\n",
        "Hence, **k-Coloring $\\in$ NP**.\n",
        "####**SAT**\n",
        "input: Boolean formula f in CNF with n variables and m clauses.\n",
        "\n",
        "output: Satisfying assignment if one exists NO otherwise.\n",
        "\n",
        "**$SAT \\in NP$**: Given f and assignment $\\sigma$, in O(n) time/caluse can verify that the clause is satisfied & hence in O(nm) total time we can verify that $\\sigma$ satisfies f.\n",
        "\n",
        "####**Knapsack**\n",
        "input: n objects with integer weights $w_1, \\cdots, w_n$ & integer values $v_1, \\cdots, v_n$ and capacity B.\n",
        "\n",
        "output: Subset S of objects with total weigh $\\leq$ B & maximum total value.\n",
        "\n",
        "Is **Knapsack $\\in$ NP**?\n",
        "Given instance { $w_1, \\cdots, w_n, v_1, \\cdots, v_n, B$} & solution $S$, in O(n) time can check total weight is $\\leq$ B, but how do we verify that S has maximum value? (Need to do it in time poly(n, logB) but only approach is to run Knapsack to find an optimal solution $S'$ which takes time Poly(n,B)).\n",
        "This is the optimization version, not a search problem. \n",
        "\n",
        "####**Knapsack-search**\n",
        "input: n objects with integer weights $w_1, \\cdots, w_n$ & integer values $v_1, \\cdots, v_n$, capacity B, and goal g.\n",
        "\n",
        "output: Subset S of objects with total weigh $\\leq$ B & total value $\\ge$ g, and No if no such S exists.\n",
        "\n",
        "Knapsack-seach $\\in$ NP:\n",
        "Given instance & solution S, in poly-time Poly(n, logB) can check that  it has total weight $\\leq$ B & total weigh $\\ge$ g.\n",
        "\n",
        "Note: if we can solve the search oversion in Poly-time then we can solve the optimization version in Polytime by binary search over g $\\in \\{1,\\cdots,V\\}$. So Knapsack $\\rightarrow$ Knapsack-search.\n",
        "\n",
        "####**MST**\n",
        "input: G(V,E) with w(e) > 0 for e $\\in$ E.\n",
        "\n",
        "output: tree T with min. weight.\n",
        "\n",
        "MST $\\in$ NP:\n",
        "Given G & T, run Kruskal's or Prim's alg. to find in Poly(n) time a MST T'. Check that w(T) = w(T') & then run BFS/DFS to check that T is a tree."
      ]
    },
    {
      "cell_type": "markdown",
      "metadata": {
        "id": "lEO4R6CYe3SF",
        "colab_type": "text"
      },
      "source": [
        "###Reductions\n",
        "Given Problems A & B and A $\\rightarrow$ B or A $\\leq$ B means A reduces to B.\n",
        "\n",
        "If we can solve B in poly-time then we can use that algo. for B as a black-box to solve A in poly-time.\n",
        "\n",
        "i/p for A $\\rightarrow|\\rightarrow [f] \\rightarrow [Algo.for B] \\rightarrow [h] \\rightarrow |\\rightarrow$ h(S) or No\n",
        "\n",
        "Take input I for A:\n",
        "1. define input f(I) for B\n",
        "1. run black-box algo. for B on f(I)\n",
        "1. Given solution S for f(I) produce solution h(S) for I & given No solution for f(I) then output No for I.\n",
        "\n",
        "To reduce A $\\rightarrow$ B, need to define f & h and Prove that:\n",
        "* if S is a solution to f(I) then h(S) is a solution to I\n",
        "* and if No solution for f(I) then No solution for f(I)\n",
        "\n",
        "\n"
      ]
    },
    {
      "cell_type": "markdown",
      "metadata": {
        "id": "JJDp_HvxjjQu",
        "colab_type": "text"
      },
      "source": [
        "###3SAT\n",
        "input: Boolean formula $f$ in CNF with n variables & m caluses.\n",
        "\n",
        "ouput: Satisfying assignment if one exists & No otherwise:\n",
        "\n",
        "Theorem: 3 SAT is NP-complete\n",
        "\n",
        "We'll use the fact that SAT is NP-complete.\n",
        "Need to show:\n",
        " 1. 3SAT $\\in$ NP-complete\n",
        " 1. SAT $\\rightarrow$ 3SAT\n",
        "\n",
        "For 1.) Given an assignment $\\sigma$, in O(1) time per clause we can check that $\\ge$ 1 literal is satisfied. Thus O(m) total time to check $f$ is satisfied.\n",
        "\n",
        "For 2.) Given $f$ for SAT.\n",
        "Create a new formula $f'$ as follows:\n",
        "> For each caluse C in $f$\n",
        ">>let k = |C| = # of literals in C\n",
        "\n",
        ">>if k $\\le$ 3 then add C to $f'$\n",
        "\n",
        ">>if k > 3 then: create k-3 new vaibales & replace C by C' such that C' contains all the cluases contains = 3 literals.\n",
        "\n",
        "Use $f'$ as input for 3SAT\n",
        "\n",
        "$f$ is satisfiable $\\Leftrightarrow$ $f'$ is satisfiable.\n",
        "\n",
        "And given a satisfying assignment for $f'$ we ignore the new varibles & we have a satifying assignment for $f$.\n",
        "\n",
        "\n",
        "\n"
      ]
    },
    {
      "cell_type": "markdown",
      "metadata": {
        "id": "mddpx2Td3dmq",
        "colab_type": "text"
      },
      "source": [
        "###Independent Set(IS) is NP-complete\n",
        "\n",
        "input: Undirected G=(V,E) & goal g.\n",
        "\n",
        "output: Independent Set S of size |S|$\\ge$ g if one exits. No otherwise.\n",
        "\n",
        "We want IS of max size.\n",
        "\n",
        "Proof:\n",
        "1. First we need to show that: IS $\\in$ NP\n",
        "> Given G, g, & S, in $O(n^2)$ time we can check all pairs x,y$\\in$S to verify that (x,y) is not an edge\n",
        "1. We'll show 3SAT $\\rightarrow$ IS\n",
        "> Consider 3SAT input $f$ with n variables & m caluses and each caluse has size $\\le$ 3.\n",
        "We will create a graph G based on $f$. $f$ has m caluses so we'll set g = m. Vertices of G correspond to literals of $f$. \n",
        "\n",
        "For each varibale $x_i$, add edges between all vertices corresponding to $x_i$ with all $\\bar x_i$.\n",
        "These edges ensure that an IS does not include $x_i$ & $\\bar x_i$. Thus an IS correpsonds to a valid assignment. The edges within a claus esure that an IS includes $\\le$ 1 vertex per caluse. Thus to get size = g = m we need eacly one vertex per caluse.\n",
        "\n",
        "$\\therefore$ an IS of size g corresponds to a satisfying assignment.\n",
        "\n",
        "\n"
      ]
    },
    {
      "cell_type": "markdown",
      "metadata": {
        "id": "v4wAg40k8gvJ",
        "colab_type": "text"
      },
      "source": [
        "###Clique\n",
        "Fully connected subgraph. Want to find the largest Clique.\n",
        "\n",
        "input: G(V,E) & goal g.\n",
        "\n",
        "output: S $\\subset$ V where S is a clique & |S|$\\ge$g if one exists. No otherwise.\n",
        "\n",
        "1. Clique $\\in$ NP-complete\n",
        ">Given G, g, & S in $O(n^2)$ time can check for all x,y $\\in$ S that (x,y) is an edge. & in O(n) time can check that |S| $\\ge$ g.\n",
        "1. IS $\\rightarrow$ Clique\n",
        ">For G=(V,E), let $\\bar G = (V,\\bar E)$ where $\\bar E = \\{(x,y): (x,y)\\notin E\\}$\n",
        "\n",
        "Given G & g for the IS problem Let $\\bar G$ & g be the input to the Clique problem. If we get a solution S for Clique then return the same S as the solution to the original IS problem. If we get No then return No for the IS problem."
      ]
    },
    {
      "cell_type": "markdown",
      "metadata": {
        "id": "dTCZPhRK_F9E",
        "colab_type": "text"
      },
      "source": [
        "### Vertex Cover(VC)\n",
        "\n",
        "For G=(V,E) S$\\subset$V is a VC if it \"covers every edge\" meaning: for every (x,y) $\\in$ E, either x$\\in$S &/or y$\\in$S.\n",
        "Want to find the smallest VC\n",
        "\n",
        "input: G=(V,E) & goal b\n",
        "\n",
        "output: VC S of size |S|$\\le$b if one exists. No otherwise.\n",
        "1. VC $\\in$ NP-complete\n",
        ">Given G, b, & S in O(n+m) time can check that every edge of G is covered by S & that |S| $\\le$ b.\n",
        "1. IS $\\rightarrow$ VC.\n",
        "\n",
        "For inout G,g for IS use input G,b=|V|-g for VC.\n",
        "\n",
        ">G has an IS of size $\\ge$ g $\\Leftrightarrow$ G has a VC of size $\\le$ b.\n",
        "\n"
      ]
    },
    {
      "cell_type": "markdown",
      "metadata": {
        "id": "YrjThpzp_JaF",
        "colab_type": "text"
      },
      "source": [
        "###Subset-sum \n",
        "input: Positive integers $a_1, \\cdots, a_n$ & t\n",
        "\n",
        "output: subset S of objects {1,..., n} where $\\sum \\limits_{i \\in S} a_i = t$ & NO if no such S exists.\n",
        "\n"
      ]
    },
    {
      "cell_type": "markdown",
      "metadata": {
        "id": "3ZwkskOK_XVv",
        "colab_type": "text"
      },
      "source": [
        "###Knapsack"
      ]
    },
    {
      "cell_type": "markdown",
      "metadata": {
        "id": "2dnJN-a5_biS",
        "colab_type": "text"
      },
      "source": [
        "###Halting problem"
      ]
    },
    {
      "cell_type": "markdown",
      "metadata": {
        "id": "OUkY6_w8_gyk",
        "colab_type": "text"
      },
      "source": [
        "###Circuit-SAT "
      ]
    }
  ]
}