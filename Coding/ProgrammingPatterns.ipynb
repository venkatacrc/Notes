{
  "nbformat": 4,
  "nbformat_minor": 0,
  "metadata": {
    "colab": {
      "name": "ProgrammingPatterns.ipynb",
      "provenance": [],
      "authorship_tag": "ABX9TyO8Dej/cRh7GVfSyVytCSom",
      "include_colab_link": true
    },
    "kernelspec": {
      "name": "python3",
      "display_name": "Python 3"
    }
  },
  "cells": [
    {
      "cell_type": "markdown",
      "metadata": {
        "id": "view-in-github",
        "colab_type": "text"
      },
      "source": [
        "<a href=\"https://colab.research.google.com/github/venkatacrc/Notes/blob/master/Coding/ProgrammingPatterns.ipynb\" target=\"_parent\"><img src=\"https://colab.research.google.com/assets/colab-badge.svg\" alt=\"Open In Colab\"/></a>"
      ]
    },
    {
      "cell_type": "markdown",
      "metadata": {
        "id": "Zkjkg6_h_E-G",
        "colab_type": "text"
      },
      "source": [
        "#Programming Patterns\n",
        "Source: [Stanford CS106B](http://web.stanford.edu/class/cs106b)\n",
        "\n",
        "1. Simple Rules give rise to complex behavior\n",
        "1. Decompose a large problem into manageable components.\n",
        "\n",
        "##Recursion\n"
      ]
    },
    {
      "cell_type": "code",
      "metadata": {
        "id": "-LK5H0Jm_NVL",
        "colab_type": "code",
        "colab": {}
      },
      "source": [
        "if (The problem is very simple) {\n",
        "    # one or more base cases\n",
        "    Directly solve the problem.\n",
        "    Return the solution\n",
        "} else {\n",
        "    # one or more recursive cases\n",
        "    Split the problem into one or more smaller problems with the same structure as the original.\n",
        "    Solve each of those smaller problems.\n",
        "    Combine the results to get the overall solution.\n",
        "    Return the overall solution.\n",
        "}\n",
        "\n",
        "# Examples\n",
        "reverseOf(\"TOP\") = reversOf(\"OP\") + T"
      ],
      "execution_count": 0,
      "outputs": []
    },
    {
      "cell_type": "code",
      "metadata": {
        "id": "4Xk8fhbaJkRx",
        "colab_type": "code",
        "colab": {}
      },
      "source": [
        ""
      ],
      "execution_count": 0,
      "outputs": []
    }
  ]
}