{
  "nbformat": 4,
  "nbformat_minor": 0,
  "metadata": {
    "colab": {
      "name": "ProgrammingPatterns.ipynb",
      "provenance": [],
      "authorship_tag": "ABX9TyMKCtMTLgfrVN/xiTJQHaDY",
      "include_colab_link": true
    },
    "kernelspec": {
      "name": "python3",
      "display_name": "Python 3"
    }
  },
  "cells": [
    {
      "cell_type": "markdown",
      "metadata": {
        "id": "view-in-github",
        "colab_type": "text"
      },
      "source": [
        "<a href=\"https://colab.research.google.com/github/venkatacrc/Notes/blob/master/Coding/ProgrammingPatterns.ipynb\" target=\"_parent\"><img src=\"https://colab.research.google.com/assets/colab-badge.svg\" alt=\"Open In Colab\"/></a>"
      ]
    },
    {
      "cell_type": "markdown",
      "metadata": {
        "id": "Zkjkg6_h_E-G",
        "colab_type": "text"
      },
      "source": [
        "#Programming Patterns\n",
        "Source: [Stanford CS106B](http://web.stanford.edu/class/cs106b)\n",
        "\n",
        "1. Simple Rules give rise to complex behavior\n",
        "1. Decompose a large problem into manageable components.\n",
        "\n",
        "##Recursion\n"
      ]
    },
    {
      "cell_type": "code",
      "metadata": {
        "id": "-LK5H0Jm_NVL",
        "colab_type": "code",
        "colab": {}
      },
      "source": [
        "if (The problem is very simple) {\n",
        "    # one or more base cases\n",
        "    Directly solve the problem.\n",
        "    Return the solution\n",
        "} else {\n",
        "    # one or more recursive cases\n",
        "    Split the problem into one or more smaller problems with the same structure as the original.\n",
        "    Solve each of those smaller problems.\n",
        "    Combine the results to get the overall solution.\n",
        "    Return the overall solution.\n",
        "}\n",
        "\n",
        "# Examples\n",
        "reverseOf(\"TOP\") = reversOf(\"OP\") + T"
      ],
      "execution_count": 0,
      "outputs": []
    },
    {
      "cell_type": "code",
      "metadata": {
        "id": "4Xk8fhbaJkRx",
        "colab_type": "code",
        "colab": {}
      },
      "source": [
        "#Human Pyramids\n",
        "def peopleInPyramidOfHeight(n:int) -> int:\n",
        "    if n == 1:\n",
        "        return 1\n",
        "    elif n == 2:\n",
        "        return 3 \n",
        "    else:\n",
        "        return n + peopleInPyramidOfHeight(n-1)\n",
        "\n",
        "if __name__ == \"__main__\":\n",
        "    print(peopleInPyramidOfHeight(4))"
      ],
      "execution_count": 0,
      "outputs": []
    },
    {
      "cell_type": "code",
      "metadata": {
        "id": "kcPvF8LvJzeo",
        "colab_type": "code",
        "colab": {}
      },
      "source": [
        "import random\n",
        "\"\"\"\n",
        "Choose a random card from the deck and remove it.\n",
        "Shuffle the rest of the deck.\n",
        "Place the randomly-chosen card on top of the deck.\n",
        "\"\"\"\n",
        "def randomShuffle(input:str) -> str:\n",
        "    if input == \"\":\n",
        "        return \"\"\n",
        "    else:\n",
        "        idx = random.randrange(0,len(input))\n",
        "        return input[idx] + randomShuffle(input[:idx] + input[idx+1:])\n",
        "\n",
        "if __name__ == \"__main__\":\n",
        "    print(randomShuffle(\"RAMA\"))"
      ],
      "execution_count": 0,
      "outputs": []
    },
    {
      "cell_type": "code",
      "metadata": {
        "id": "X7XE-0pQN2z1",
        "colab_type": "code",
        "colab": {}
      },
      "source": [
        "#include \"random.h\"\n",
        "#include <string>\n",
        "#include <iostream>\n",
        "using namespace std;\n",
        "\n",
        "string randomShuffle(string input) {\n",
        "    if (input == \"\") {\n",
        "        return \"\";\n",
        "    } else {\n",
        "        int idx = randomInteger(0, input.size());\n",
        "        char random_char = input[idx];\n",
        "        input.erase(idx);\n",
        "        return random_char + randomShuffle(input);\n",
        "    }\n",
        "}"
      ],
      "execution_count": 0,
      "outputs": []
    }
  ]
}