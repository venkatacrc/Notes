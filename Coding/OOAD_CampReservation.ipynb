{
  "nbformat": 4,
  "nbformat_minor": 0,
  "metadata": {
    "colab": {
      "name": "OOAD_CampReservation.ipynb",
      "provenance": [],
      "include_colab_link": true
    },
    "kernelspec": {
      "name": "python3",
      "display_name": "Python 3"
    }
  },
  "cells": [
    {
      "cell_type": "markdown",
      "metadata": {
        "id": "view-in-github",
        "colab_type": "text"
      },
      "source": [
        "<a href=\"https://colab.research.google.com/github/venkatacrc/Notes/blob/master/Coding/OOAD_CampReservation.ipynb\" target=\"_parent\"><img src=\"https://colab.research.google.com/assets/colab-badge.svg\" alt=\"Open In Colab\"/></a>"
      ]
    },
    {
      "cell_type": "markdown",
      "metadata": {
        "id": "uH4a_tLDZbWi",
        "colab_type": "text"
      },
      "source": [
        "#OOAD of Camp Reservation System\n",
        "\n",
        "##REQUIREMENTS\n",
        "1. National parks has a number of **campsites**. Some campsites have electricty and some does not have electrocity. Also there are single sites with maximum occupancy 6 with 2 cars allowed vs group sites which can occupy 40 with 8 cars allowed.\n",
        "1. A patron can reserve a campsite for a single day upto 14 days depending upon the availability.\n",
        "1. Some sites are not reservable but alloted first come first serve. Also some sites reserved for backpackers and bicyclists.\n",
        "1. **Patrons** chardhed cleaning fee if the campsite is not returned in good condition.\n"
      ]
    }
  ]
}