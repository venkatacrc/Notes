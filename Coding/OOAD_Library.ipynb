{
  "nbformat": 4,
  "nbformat_minor": 0,
  "metadata": {
    "colab": {
      "name": "OOAD_Library.ipynb",
      "provenance": [],
      "include_colab_link": true
    },
    "kernelspec": {
      "name": "python3",
      "display_name": "Python 3"
    }
  },
  "cells": [
    {
      "cell_type": "markdown",
      "metadata": {
        "id": "view-in-github",
        "colab_type": "text"
      },
      "source": [
        "<a href=\"https://colab.research.google.com/github/venkatacrc/Notes/blob/master/Coding/OOAD_Library.ipynb\" target=\"_parent\"><img src=\"https://colab.research.google.com/assets/colab-badge.svg\" alt=\"Open In Colab\"/></a>"
      ]
    },
    {
      "cell_type": "markdown",
      "metadata": {
        "id": "CDAWVW3Pnlsv",
        "colab_type": "text"
      },
      "source": [
        "#OOAD Library Information System Example\n",
        "Source:[A Tale of Analysis and Design](https://classroom.udacity.com/courses/ud805/lessons/1731528646/concepts/6460702220923)\n",
        "\n",
        "## Library Information System Requirements\n",
        "1. Each **patron** has one unique library card for as long as they are in the **system**.\n",
        "1. The **library** needs to know at least the *name, address, phone number, and library card number* for each patron.\n",
        "1. In addition, at any particular point in **time**, the library may need to know or to calculate the **items** a patron has `checked out`, `when they are due`, and any `outstanding overdue fines`.\n",
        "1. Children (*age* 12 and under) have a special restriction - they can check out five tems at a time.\n",
        "1. A patron can `check out` **books** or **audio/visual** materials.\n",
        "1. Books are checked out for three **weeks**, unless they are current best sellers, in which case the limit is two weeks.\n",
        "1. A/V materials may be checked out for two weeks.\n",
        "1. The overdue fine is ten cents per iterm per day, but cannot be higher than *the value* of the overdue item.\n",
        "1. The library also has **reference books** and **magazines**, which can't be checked out.\n",
        "1. A patron can `request` a book or A/V item that is not currently in.\n",
        "1. A patron can `renew` an item once (and only once), unless there is an outstanding request for the item, in which case the patron must `return` it.\n",
        "\n",
        "###Classes, Attributes, Operations, and Relationships\n",
        "Translate nouns to class names with additional considerations:\n",
        "* System == Library\n",
        "* Library card number, age becomes attributes of Patron class\n",
        "* Best seller \n",
        "* time, week represented using utility class Date\n",
        "* cents represented using utility class Money\n",
        "\n",
        "Translate Action verbs to class operations\n",
        " \n",
        "\n",
        "###Class Diagram\n",
        "\n",
        "![alt text](https://drive.google.com/uc?id=1Rtec6S2jPRPaO0gXqihASRb5Oz-8f7Ay)"
      ]
    }
  ]
}