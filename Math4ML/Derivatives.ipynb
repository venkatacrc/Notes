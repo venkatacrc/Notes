{
  "nbformat": 4,
  "nbformat_minor": 0,
  "metadata": {
    "colab": {
      "name": "Derivatives.ipynb",
      "provenance": [],
      "include_colab_link": true
    },
    "kernelspec": {
      "name": "python3",
      "display_name": "Python 3"
    }
  },
  "cells": [
    {
      "cell_type": "markdown",
      "metadata": {
        "id": "view-in-github",
        "colab_type": "text"
      },
      "source": [
        "<a href=\"https://colab.research.google.com/github/venkatacrc/Notes/blob/master/Math4ML/Derivatives.ipynb\" target=\"_parent\"><img src=\"https://colab.research.google.com/assets/colab-badge.svg\" alt=\"Open In Colab\"/></a>"
      ]
    },
    {
      "cell_type": "markdown",
      "metadata": {
        "id": "M8u59D6osgOU",
        "colab_type": "text"
      },
      "source": [
        "##Univariate Derivatives\n",
        "\n",
        "Source: AWS Machine Learning Course from Brent Werness.\n",
        "\n",
        "How to optimize Machine Learning Models by applying probability theorems.\n",
        "\n",
        "Probability Theory + Optimization = Learning\n",
        "\n",
        "* Maximum Likelihood Estimation\n",
        "* Derivatives\n",
        "* Second Derivatives\n",
        "* Numerical methods for optimization\n",
        "* Gradient Descent\n",
        "* Newton's method\n",
        "\n",
        "### Maximum Likelihood Estimation(MLE)\n",
        "#### A Motivating Example\n",
        "Simple Learning task: A coin comes up heads with probability $p$ and tails with probability $1-p$, but you do not know $p$. You observe a sequence of flips to be:\n",
        "$HHHTTHTTHTHTT$ \n",
        "\n",
        "How can you use this data to learn $p$?\n",
        "\n",
        "**Intuition**\n",
        "You can probably guess the answer, but let's generalize this to make it applicable to more complex questions. (Think about trying to model generative model of what cat pictures look like, and looking at 1,000 photos of cats) Let's dive into why the answer will be:\n",
        "\n",
        "$P = \\frac{\\# Heads}{\\# Flips}=\\frac{6}{13}$\n",
        "\n",
        "#### MLE\n",
        "Assuming all the coin flips are independent of each other.\n",
        "$\\mathbb{P}_p(D) = p^6(1-p)^7$\n",
        "\n",
        "Find $p$ s.t. $\\mathbb{P}_p(D)$ is maximized, i.e. what is the value of parameter $p$ that gives us the highest probability of generating our exact sequence of coin flips.\n",
        ">Find $p$ s.t. $p^6(1-p)^7$ is maximized\n",
        "\n",
        "\n",
        "\n",
        "\n",
        "\n",
        "\n",
        "\n",
        "\n"
      ]
    },
    {
      "cell_type": "code",
      "metadata": {
        "id": "lGB0PZcY0o_H",
        "colab_type": "code",
        "colab": {}
      },
      "source": [
        ""
      ],
      "execution_count": 0,
      "outputs": []
    },
    {
      "cell_type": "code",
      "metadata": {
        "id": "nWe4fJoX0ZVX",
        "colab_type": "code",
        "outputId": "735b38a4-478d-4649-8413-cb00079181c6",
        "colab": {
          "base_uri": "https://localhost:8080/",
          "height": 293
        }
      },
      "source": [
        "%matplotlib inline\n",
        "import numpy as np\n",
        "import matplotlib.pyplot as plt\n",
        "plt.style.use('seaborn-white')\n",
        "\n",
        "def Pd(p): \n",
        "  return (p**6)*((1-p)**7)\n",
        "\n",
        "import random \n",
        "\n",
        "x = []\n",
        "y = []\n",
        "for _ in range(1000):\n",
        "  t = random.uniform(0,1)\n",
        "  x.append(t)\n",
        "  y.append(Pd(t))\n",
        "# plotting points as a scatter plot \n",
        "plt.scatter(x, y, label= \"stars\", color= \"green\",  \n",
        "            marker= \"*\", s=1) \n",
        "plt.ylim(0,0.00015) \n",
        "plt.xlim(0,1)  \n",
        "# x-axis label \n",
        "plt.xlabel('p') \n",
        "# frequency label \n",
        "plt.ylabel('Pp(D)') \n",
        "\n",
        "# plt.hist(data);"
      ],
      "execution_count": 0,
      "outputs": [
        {
          "output_type": "execute_result",
          "data": {
            "text/plain": [
              "Text(0, 0.5, 'Pp(D)')"
            ]
          },
          "metadata": {
            "tags": []
          },
          "execution_count": 21
        },
        {
          "output_type": "display_data",
          "data": {
            "image/png": "[encoded data removed]",
            "text/plain": [
              "<Figure size 432x288 with 1 Axes>"
            ]
          },
          "metadata": {
            "tags": []
          }
        }
      ]
    },
    {
      "cell_type": "markdown",
      "metadata": {
        "id": "CVHCCI57D8NP",
        "colab_type": "text"
      },
      "source": [
        "### Derivatives\n",
        "**Definition**\n",
        "\n",
        "For a function f(x)\n",
        "\n",
        "Derivative Approximation =$\\frac{f(x+h)-f(x)}{(x+h)-x}$\n",
        "\n",
        "Get a better approximation:\n",
        "\n",
        "$f'(x) = \\lim\\limits_{h\\rightarrow0} \\frac{f(x+h)-f(x)}{h}$\n",
        "\n",
        "$f(x+\\epsilon) = f(x) + f'(x)\\epsilon$\n",
        "\n",
        "**Common Derivatives**\n",
        "\n",
        "function f(x) |$\\frac{d}{dx}f$\n",
        "---|---\n",
        "$(n\\neq0)x^n$| $nx^{n-1}$\n",
        "$e^x$|$e^x$\n",
        "$(x\\gt0)log(x)$|$\\frac{1}{x}$\n",
        "\n",
        "**Derivative Rules**\n",
        "\n",
        "Sum rule: \n",
        "$[f(x) + g(x)]' = f'(x) + g'(x)$\n",
        "\n",
        "Product Rule:\n",
        "$[f(x) + g(x)]' = f(x)g'(x) + f'(x)g(x)$\n",
        "\n",
        "Chain Rule:\n",
        "$[f(g(x))]' = f'(g(x))g'(x)$\n",
        "\n",
        "$\\frac{df}{dx} = \\frac{df}{dg} \\frac{dg}{dx}$\n",
        "\n",
        "Example: $\\frac{d}{dp}{p^6(1-p)^7} = 0 => p = \\frac{6}{13}$\n",
        "\n",
        "### Second Derivtives\n",
        "Helps to identify extrema\n",
        "\n",
        "We want f $\\leftarrow$ Max or Min\n",
        "\n",
        "$f'\\neq0 \\rightarrow$ Neither a Max or Min\n",
        "\n",
        "$f'=0 \\rightarrow$ can have a Max or Min\n",
        "\n",
        "$f'\\gt0\\rightarrow$ Min\n",
        "\n",
        "$f' > 0$ f is locally increasing\n",
        "\n",
        "$f' < 0$ f is locally decreasing\n",
        "\n",
        "$f' = 0 \\left\\{ \\begin{array}{rcl}\n",
        "{f\">0} & f\\ has\\ a\\ local\\ min \\\\ \n",
        "{f\"<0} & f\\ has\\ a\\ local\\ max \\\\\n",
        "{f\"=0} & Can't\\ tell\n",
        "\\end{array}\\right.$\n",
        "\n",
        "### Gradient Descent\n",
        "**Definition**\n",
        "To minimize f(x)\n",
        "* Start with a random guess $X_0$\n",
        "* Iterate: $X_{i+1} = X{i} - \\alpha f'(X_i)$\n",
        "* Stop after some condition is met\n",
        "  * If the change is > 0.001\n",
        "  * A Fixed # of iterations\n",
        "  * Others \n",
        "\n",
        "### Newton's Method\n",
        "Alternative method to Gradient Descent and does not use learning rate. May have slow start at the beginning compared to Gradient descent but will converge quickly.\n",
        "\n",
        "**Update Step for Zero Finding**\n",
        "\n",
        "We want to find where $g(x)=0$ and we start with some initial guess $x_0$ and then iterate $x_{i+1} = x_{i} - \\frac{g(x_i)}{g'(x_i)}$\n",
        "\n",
        "Computing the line:\n",
        "Line on $(x_0, g(x_0))$ Slope = $g'(x_0)$ Line = $y=g'(x_0)(x-x_0)=g(x_0)$\n",
        "\n",
        "Find y value when x = 0 => $x_1 = x_0 - \\frac{g(x_0)}{g'(x_0)}$\n",
        "\n",
        "and iterate to finding zeros.\n",
        "\n",
        "**Update Step for Minimization**\n",
        "\n",
        "To minimize $f$, we want to find where $f'(x) =0$ and thus we may start with some initial guess $x_0$ and then iterate Newton's Method on $f'$ to get $x_{i+1} = x_{i} - \\frac{f'(x_i)}{f\"(x_i)}$\n",
        "\n",
        "**Relationship to Gradient Descent**\n",
        "\n",
        "$x_{i+1} = x_{i} - \\frac{f'(x_i)}{f\"(x_i)}$\n",
        "\n",
        "$x_{i+1} = x_{i} - \\{\\frac{1}{f\"(x_i)}\\}f'(x_i)$\n",
        "\n",
        "$x_{i+1} = x_{i} - \\{\\alpha\\}f'(x_i)$\n",
        "\n",
        "$\\alpha = \\frac{1}{f\"(x_i)}$\n"
      ]
    }
  ]
}