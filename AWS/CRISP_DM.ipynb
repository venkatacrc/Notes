{
  "nbformat": 4,
  "nbformat_minor": 0,
  "metadata": {
    "colab": {
      "name": "CRISP-DM.ipynb",
      "provenance": [],
      "authorship_tag": "ABX9TyPAGQ3G/xrKAwxLusDyQbyT",
      "include_colab_link": true
    },
    "kernelspec": {
      "name": "python3",
      "display_name": "Python 3"
    }
  },
  "cells": [
    {
      "cell_type": "markdown",
      "metadata": {
        "id": "view-in-github",
        "colab_type": "text"
      },
      "source": [
        "<a href=\"https://colab.research.google.com/github/venkatacrc/Notes/blob/master/AWS/CRISP_DM.ipynb\" target=\"_parent\"><img src=\"https://colab.research.google.com/assets/colab-badge.svg\" alt=\"Open In Colab\"/></a>"
      ]
    },
    {
      "cell_type": "markdown",
      "metadata": {
        "id": "XOOUMtTwk8QO",
        "colab_type": "text"
      },
      "source": [
        "#Cross Industry Standard Process- Data Mining(CRISP-DM)\n",
        "\n",
        "## Introduction to CRISM-DM on AWS\n",
        "* Overview of CRISP-DM Methodology\n",
        "* The phases of CRISP-DM\n",
        "\n",
        "![](https://drive.google.com/uc?id=1i6ftgvTLwLwkcn40R5aaAHZMqT8UZhZO)\n",
        "\n",
        "Phases\n",
        "1. Business Understanding\n",
        "  * Is the business problem suitable for ML?\n",
        "1. Data Understanding\n",
        "  * Data collection\n",
        "  * Data properties\n",
        "  * Data quality\n",
        "1. Data Preparation\n",
        "  * Select Dataset\n",
        "  * Feature Engineering\n",
        "1. Modeling\n",
        "  * Select and create model\n",
        "  * Tune model (choose values for parameters)\n",
        "1. Evaluation\n",
        "  * Model evaluation\n",
        "  * Business objective evaluation\n",
        "  * Final decision\n",
        "1. Deployment\n",
        "  * Planning deployment\n",
        "  * Maintenance and monitoring\n",
        "  * Final report\n",
        "  * Project review\n",
        "\n",
        "\n"
      ]
    }
  ]
}