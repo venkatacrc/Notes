{
  "nbformat": 4,
  "nbformat_minor": 0,
  "metadata": {
    "colab": {
      "name": "ML_AWS.ipynb",
      "provenance": [],
      "authorship_tag": "ABX9TyNnN5ODqOC1Bfe+osVtqXxo",
      "include_colab_link": true
    },
    "kernelspec": {
      "name": "python3",
      "display_name": "Python 3"
    }
  },
  "cells": [
    {
      "cell_type": "markdown",
      "metadata": {
        "id": "view-in-github",
        "colab_type": "text"
      },
      "source": [
        "<a href=\"https://colab.research.google.com/github/venkatacrc/Notes/blob/master/AWS/ML_AWS.ipynb\" target=\"_parent\"><img src=\"https://colab.research.google.com/assets/colab-badge.svg\" alt=\"Open In Colab\"/></a>"
      ]
    },
    {
      "cell_type": "markdown",
      "metadata": {
        "id": "JRzol8itrR6R",
        "colab_type": "text"
      },
      "source": [
        "#[Machine Learning: Exam Preparation](https://aws.amazon.com/training/learning-paths/machine-learning/exam-preparation/)\n",
        "[Prepare for the AWS Certified Machine Learning – Specialty exam](https://aws.amazon.com/certification/certification-prep/)\n",
        "\n",
        "![](https://drive.google.com/uc?id=1RQajkbEl0RXl-tETdQvcGGtFVGn-1MDA)\n",
        "\n",
        "1. [Machine Learning Exam Basics](https://www.aws.training/Details/Curriculum?id=27271) 2 Hours\n",
        "1. [Process Model: CRISP-DM on the AWS Stack](https://www.aws.training/Details/eLearning?id=27200) 1 hour\n",
        "1. [The Elements of Data Science](https://www.aws.training/Details/eLearning?id=26598) 8 hours\n",
        "1. [Storage Deep Dive Learning Path](https://aws.amazon.com/training/path-storage/)\n",
        "  1. [Introduction to Backup and Restore with AWS](https://www.aws.training/learningobject/wbc?id=19597&src=path-storage) 1.5 hours\n",
        "  1. [Migrating and Tiering Storage to AWS](https://www.aws.training/learningobject/wbc?id=16368&src=path-storage) 1 hour\n",
        "  1. [Deep Dive into Amazon Simple Storage Service (S3)](https://www.aws.training/Details/Curriculum?id=26930) 3.5 hours\n",
        "  1. [Deep Dive into AWS Storage Gateway](https://www.aws.training/learningobject/curriculum?id=19403&src=path-storage) 3 Hours\n",
        "  1. [Deep Dive into Amazon Glacier](https://www.aws.training/learningobject/curriculum?id=19093&src=path-storage) 2 Hours\n",
        "  1. [Deep Dive into Amazon Elastic File Storage (EFS)](https://www.aws.training/Details/Curriculum?id=25384) 1 hour\n",
        "  1. [Deep Dive into Amazon Elastic Block Store (EBS)](https://www.aws.training/Details/Curriculum?id=26940) 1 hour\n",
        "  1. [AWS Certified Solutions Architect - Associate](https://aws.amazon.com/certification/certified-solutions-architect-associate/)\n",
        "1. [Machine Learning Security](https://www.aws.training/Details/Curriculum?id=27273) 0.5 hour\n",
        "1. [Developing Machine Learning Applications](https://www.aws.training/Details/Curriculum?id=27243) 2.5 hours\n",
        "1. [Types of Machine Learning Solutions](https://www.aws.training/Details/Video?id=27224) .25 hour\n",
        "1. [Communicating with Chat Bots](https://www.aws.training/Details/Curriculum?id=27156) 3.5 hours\n",
        "1. [Speaking of: Machine Translation and NLP](https://www.aws.training/Details/Curriculum?id=27153) 1.5 hour\n",
        "1. [Seeing Clearly: Computer Vision Theory](https://www.aws.training/Details/Curriculum?id=27151) 2.5 hours\n"
      ]
    },
    {
      "cell_type": "markdown",
      "metadata": {
        "id": "3Vnoybl0LU5f",
        "colab_type": "text"
      },
      "source": [
        "##[Machine Learning Exam Basics](https://www.aws.training/Details/Curriculum?id=27271)\n",
        "  1. Machine Learning for Business Challenges\n",
        "  1. Machne Learning Terminology and Process"
      ]
    },
    {
      "cell_type": "markdown",
      "metadata": {
        "id": "fZmSEDVoLuAO",
        "colab_type": "text"
      },
      "source": [
        "##[Process Model: CRISP-DM on the AWS Stack](https://www.aws.training/Details/eLearning?id=27200)\n",
        "1. Introduction\n",
        "1. Phase 1: Business Understanding\n",
        "1. Phase 2: Data Understanding\n",
        "1. Phase 3: Data Preparation Tasks \n",
        "1. Phase 4: Modeling\n",
        "1. Phase 5: Evaluation\n",
        "1. Phase 6: Deployment "
      ]
    },
    {
      "cell_type": "markdown",
      "metadata": {
        "id": "M9s4UV15L6b6",
        "colab_type": "text"
      },
      "source": [
        "##[The Elements of Data Science](https://www.aws.training/Details/eLearning?id=26598)\n",
        "1. Introduction\n",
        "1. Problem Formulation and Exploratory Data Analysis\n",
        "1. Data Processing and Feature Engineering\n",
        "1. Model Training, Tuning, and Debugging\n",
        "1. Model Evaluation and Model Productionizing\n",
        "1. Summary"
      ]
    },
    {
      "cell_type": "markdown",
      "metadata": {
        "id": "g4HuB0_Rv-ny",
        "colab_type": "text"
      },
      "source": [
        "##[Introduction to Backup and Restore with AWS](https://www.aws.training/learningobject/wbc?id=19597&src=path-storage)\n",
        "\n",
        "* Introduction\n",
        "  * Overview of AWS services used in backup solutions\n",
        "  * Benefits of using AWS in backup solutions\n",
        "  * Common backup architectures Backup & Archive\n",
        "* AWS Services Used in Backup Solutions\n",
        "  * Storage\n",
        "    * S3\n",
        "    * Glacier\n",
        "    * EFS\n",
        "    * EBS\n",
        "    * AWS Storage Gateway\n",
        "  * Data Transfer\n",
        "    * Snowball\n",
        "    * Snowball Edge\n",
        "    * S3 Transfer Acceleration\n",
        "  * Network Connectivity\n",
        "    * AWS Direct Connect\n",
        "    * VPN\n",
        "  * Databases\n",
        "* Case Studies\n",
        "* Backup Workflows with AWS\n",
        "  * Direct To Tape\n",
        "  * Two-Tier Backup\n",
        "  * Multi-site and Multiple Backup\n",
        "  * Cloud Native\n",
        "\n",
        "  \n",
        "\n",
        "\n",
        "\n",
        "\n"
      ]
    },
    {
      "cell_type": "markdown",
      "metadata": {
        "id": "XUXP9PHUNTj3",
        "colab_type": "text"
      },
      "source": [
        "##[Migrating and Tiering Storage to AWS](https://www.aws.training/learningobject/wbc?id=16368&src=path-storage)\n",
        "1. Migrating and Tiering Storage to AWS\n",
        "  1. Objectives\n",
        "  1. Data Migration\n",
        "  1. Data Storage\n",
        "  1. Data Tiering\n",
        "  1. AWS Hybrid Cloud Storage\n",
        "  1. Building Blocks\n",
        "  ![](https://drive.google.com/uc?id=1M31wADXuZd3pDnqTaAtIc3a8lMot0paT)\n",
        "1. Blocks\n",
        "  1. Snowball family\n",
        "  1. Storage Gateway\n",
        "  1. File Gateway\n",
        "  1. Volume Gateway\n",
        "  1. Tape Gateway\n",
        "  1. EFS\n"
      ]
    },
    {
      "cell_type": "markdown",
      "metadata": {
        "id": "X9SCuTb6PTzg",
        "colab_type": "text"
      },
      "source": [
        "##[Deep Dive into Amazon Simple Storage Service (S3)](https://www.aws.training/Details/Curriculum?id=26930)\n",
        "\n",
        "1. Using Amazon S3\n",
        "1. Managing Access\n",
        "1. Encryption\n",
        "1. Using AWS Security Tools and Services\n",
        "1. Managing Storage\n",
        "1. Monitoring and Analyzing Your Data\n",
        "1. Optimizing Performance\n"
      ]
    },
    {
      "cell_type": "markdown",
      "metadata": {
        "id": "1PztN3INP7wm",
        "colab_type": "text"
      },
      "source": [
        "##[Deep Dive into AWS Storage Gateway](https://www.aws.training/learningobject/curriculum?id=19403&src=path-storage)\n",
        "\n",
        "1. Intro\n",
        "1. Storage Gateway Types\n",
        "1. Creating Storage Gateways\n",
        "1. Managing Storage Gateways\n",
        "1. Storage Gateway Security\n",
        "1. Monitoring Storage Gateway Performance\n",
        "1. Storage Gateway Pricing\n",
        "1. Summary\n"
      ]
    },
    {
      "cell_type": "markdown",
      "metadata": {
        "id": "pMpjU1vxQobg",
        "colab_type": "text"
      },
      "source": [
        "##[Deep Dive into Amazon Glacier](https://www.aws.training/learningobject/curriculum?id=19093&src=path-storage)\n",
        "1. Overview\n",
        "1. Data Lifecycle Management \n",
        "1. Durability and Security\n",
        "1. Optimizing - Curriculum Costs\n",
        "1. Ingesting Data Into Glacier\n",
        "1. Data Access on Amzon Glacie\n",
        "1. Summary"
      ]
    },
    {
      "cell_type": "markdown",
      "metadata": {
        "id": "q2aT3RNLRMqQ",
        "colab_type": "text"
      },
      "source": [
        "##[Deep Dive into Amazon Elastic File Storage (EFS)](https://www.aws.training/Details/Curriculum?id=25384)\n",
        "\n",
        "1. Overview\n",
        "1. EFS Architecture\n",
        "1. EFS File System Management\n",
        "1. Securing Your Data in Amazon EFS\n",
        "1. Performance and Optimization\n",
        "1. Amazon EFS Cost and Billing"
      ]
    },
    {
      "cell_type": "markdown",
      "metadata": {
        "id": "Td92P8JzRq1X",
        "colab_type": "text"
      },
      "source": [
        "##[Deep Dive into Amazon Elastic Block Store (EBS)](https://www.aws.training/Details/Curriculum?id=26940)\n",
        "\n",
        "1. Overview\n",
        "1. Types of EBS Volumes\n",
        "1. Managing EBS Snapshots\n",
        "1. Managing EBS Volumes\n",
        "1. Modifying EBS Volumes\n",
        "1. Securing EBS\n",
        "1. EBS Performance and Monitoring\n",
        "1. EBS Usage and Costs"
      ]
    },
    {
      "cell_type": "markdown",
      "metadata": {
        "id": "pDT5JDZ6STIh",
        "colab_type": "text"
      },
      "source": [
        "##[Machine Learning Security](https://www.aws.training/Details/Curriculum?id=27273)\n",
        "\n",
        "1. AWS Security Fundas\n",
        "1. Authetication and Authorization with IAM\n",
        "1. Security Groups and NACLs\n",
        "1. Protecting your instance with Security Groups\n",
        "1. Understanding Amazon EBS Volume Encryption\n",
        "\n"
      ]
    },
    {
      "cell_type": "markdown",
      "metadata": {
        "id": "Xehac-c4SzCl",
        "colab_type": "text"
      },
      "source": [
        "##[Developing Machine Learning Applications](https://www.aws.training/Details/Curriculum?id=27243)\n",
        "\n",
        "1. Intro to SageMaker\n",
        "1. Intro to SageMaker Neo\n",
        "1. ML Algos Explained\n",
        "1. Automatic Model Tuning in SageMaker\n",
        "1. Advanced Analytics with SageMaker\n",
        "1. Anamaly Detection on AWS\n",
        "1. Building Recommendation Systems with MXNet and GluOn\n",
        "\n"
      ]
    },
    {
      "cell_type": "markdown",
      "metadata": {
        "id": "xy-7RM44TQrv",
        "colab_type": "text"
      },
      "source": [
        "##[Types of Machine Learning Solutions](https://www.aws.training/Details/Video?id=27224)\n",
        "1. [Communicating with Chat Bots](https://www.aws.training/Details/Curriculum?id=27156)\n",
        "  1. Intro to Amazon Polly\n",
        "  1. Amazon Lex\n",
        "  1. Building a Dynamic Conversational Bot\n",
        "1. [Speaking of: Machine Translation and NLP](https://www.aws.training/Details/Curriculum?id=27153)\n",
        "  1. Intro to Amazon Comprehend\n",
        "  1. Intro to Comprehend Medical\n",
        "  1. Transcribe\n",
        "  1. Translate\n",
        "  1. Understanding Neural Networks\n",
        "  1. Build a Classification Model with AWS Glue and Amazon SageMaker\n",
        "  1. Amazon Transcribe Deep Dive: Using Feedback Loops to Improve Confidence Level of Transcription\n",
        "  1. Neural Machine Translation with Sockeye\n",
        "1. [Seeing Clearly: Computer Vision Theory](https://www.aws.training/Details/Curriculum?id=27151)\n",
        "  1. Rekognition\n",
        "  1. AWS DeepLens\n",
        "  1. Semantic Segmentation Explained\n",
        "  1. Hands-on Rekognition: Automated Video Editing\n",
        "  1. Deep Dive on Rekognition: Building Computer Visions Based Smart Applications\n",
        "  1. Satellite Image Classification in SageMaker\n"
      ]
    }
  ]
}