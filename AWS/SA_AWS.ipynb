{
  "nbformat": 4,
  "nbformat_minor": 0,
  "metadata": {
    "colab": {
      "name": "SA_AWS.ipynb",
      "provenance": [],
      "authorship_tag": "ABX9TyPk3vzDxEx3yaAKYbcsJSIF",
      "include_colab_link": true
    },
    "kernelspec": {
      "name": "python3",
      "display_name": "Python 3"
    }
  },
  "cells": [
    {
      "cell_type": "markdown",
      "metadata": {
        "id": "view-in-github",
        "colab_type": "text"
      },
      "source": [
        "<a href=\"https://colab.research.google.com/github/venkatacrc/Notes/blob/master/AWS/SA_AWS.ipynb\" target=\"_parent\"><img src=\"https://colab.research.google.com/assets/colab-badge.svg\" alt=\"Open In Colab\"/></a>"
      ]
    },
    {
      "cell_type": "markdown",
      "metadata": {
        "id": "iW0ZiBj7E7NE",
        "colab_type": "text"
      },
      "source": [
        "#[AWS Certified Solutions Architect – Associate](https://aws.amazon.com/certification/certified-solutions-architect-associate/)\n",
        "[Prepare for Your AWS Certification Exam](https://aws.amazon.com/certification/certification-prep/)\n",
        "![](https://drive.google.com/uc?id=13nVMgRA9PRavMzJn1d-pxQsAtmON9Ce3)\n",
        "[source](https://aws.amazon.com/training/path-architecting/)\n",
        "\n",
        "[AWS Ramp-Up Guide: Architect](https://d1.awsstatic.com/training-and-certification/Learning_Paths/RampUp_Architect_102019_final.pdf)\n",
        "\n",
        "1. [AWS Technical Essentials](https://aws.amazon.com/training/course-descriptions/essentials/)\n",
        "  covers: AWS console, IAM, EC2, EBS, S3, VPC, RDS, ELB etc.\n",
        "1. [Architecting on AWS](https://aws.amazon.com/training/course-descriptions/architect/)\n",
        "1. [Exam Readiness: AWS Certified Solutions Architect - Associate](https://aws.amazon.com/training/course-descriptions/exam-workshop-solutions-architect-associate/)\n",
        "1. [White Papers](https://aws.amazon.com/whitepapers/?whitepapers-main.sort-by=item.additionalFields.sortDate&whitepapers-main.sort-order=desc&awsf.whitepapers-content-type=content-type%23whitepaper)\n",
        "\n"
      ]
    }
  ]
}