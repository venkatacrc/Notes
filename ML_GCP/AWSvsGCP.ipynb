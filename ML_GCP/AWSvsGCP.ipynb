{
  "nbformat": 4,
  "nbformat_minor": 0,
  "metadata": {
    "colab": {
      "name": "AWSvsGCP.ipynb",
      "provenance": [],
      "authorship_tag": "ABX9TyNVdgefFktbsiuZOgyNKJ/Z",
      "include_colab_link": true
    },
    "kernelspec": {
      "name": "python3",
      "display_name": "Python 3"
    }
  },
  "cells": [
    {
      "cell_type": "markdown",
      "metadata": {
        "id": "view-in-github",
        "colab_type": "text"
      },
      "source": [
        "<a href=\"https://colab.research.google.com/github/venkatacrc/Notes/blob/master/ML_GCP/AWSvsGCP.ipynb\" target=\"_parent\"><img src=\"https://colab.research.google.com/assets/colab-badge.svg\" alt=\"Open In Colab\"/></a>"
      ]
    },
    {
      "cell_type": "markdown",
      "metadata": {
        "id": "V8PsifvyTq5W",
        "colab_type": "text"
      },
      "source": [
        "#AWS vs GCP\n",
        "\n",
        "Source: \n",
        "[Google Cloud for AWS Professionals](https://cloud.google.com/docs/compare/aws/)\n",
        "\n",
        "\n",
        "Services|AWS|GCP\n",
        "---|---|---\n",
        "**Concept**|---|---\n",
        "cluster of data centers and services | Region | Region\n",
        "Abstracted data center | AZ | Zone\n",
        "Edge caching | CloudFront(POP) | POP(multiple services)\n",
        "**Compute**|---|---\n",
        "IaaS| EC2 | Compute Engine\n",
        "PaaS| Elastic Beanstalk | App Engine\n",
        "Containers|ECS | Kuberenetes Engine\n",
        "Containers without infrastructure|AWS Fargate|Cloud Run\n",
        "Serverless|Lambda|Cloud Functions\n",
        "Managed Batch Computing|AWS Batch|N/A\n",
        "**Database**|---|---\n",
        "RDBMS| RDS, Aurora| Cloud SQL, Cloud Spanner\n",
        "NoSQL:Key-Value| DynamoDB|Firestore, Cloud Bigtable\n",
        "NoSQL:Indexed | SimpleDB|Firestore\n",
        "**Storage**|---|---\n",
        "Object Storage | S3 | Cloud Storage\n",
        "Block Storage|EBS|Persistent Disk\n",
        "Reduced-availability Storage| S3 standard-IA, S3 One Zone-IA|Cloud Storage Nearline and Cloud Storage Coldline\n",
        "Archival Storage | Glacier | Cloud Storage Archive\n",
        "File Storage | EFS | Filestore\n",
        "Large datasets transfer|Snowball|Transfer appliance(Rackable high capacity server)\n",
        "**Networking**|---|---\n",
        "Virtual Network | VPC| VPC\n",
        "Elastic Load Balancer | ELB | Cloud Load Balancing\n",
        "Peering | Direct Connect | Cloud Interconnect\n",
        "DNS | Route 53 | Cloud DNS\n",
        "**Big Data & Analytics**|---|---\n",
        "Hadoop, HDFS, Batch Data processing | EMR, AWS Batch|Dataproc, Dataflow\n",
        "Stream Data Processing|Kinesis|Dataflow\n",
        "Stream Data Ingest| Kinesis | Pub/Sub\n",
        "Analytics|Redshift, Athena | BigQuery\n",
        "Workflow Orchestration|Data Pipeline, AWS Glue| Cloud Composer\n",
        "**Application**|---|---\n",
        "Messaging|SNS, SQS| Pub/Sub\n",
        "**Management**|---|---\n",
        "Monitoring|CloudWatch|Stackdriver Monitoring\n",
        "Logging|CloudWatch Logs|Stackdriver Logging\n",
        "Deployment|CloudFormation|Cloud Deployment Manager\n",
        "**Machine Learning**|---|---\n",
        "Speech|Transcribe|Speech-to-Text\n",
        "Vision|Rekognition|Cloud Vision\n",
        "NLP|Comprehend|Cloud Natural Language API\n",
        "Translation|Translate|Cloud Translation\n",
        "Conversational Interface|Lex|Dialogflow Enterprise Edition\n",
        "Video Intelligence|Rekognition Video|Video Intelligence API\n",
        "Auto-generated Models|N/A|AutoML(beta)\n",
        "Fully Managed ML|SageMaker|AI Platform\n",
        "\n",
        "\n",
        "\n",
        "\n"
      ]
    }
  ]
}