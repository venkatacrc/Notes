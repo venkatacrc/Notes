{
  "nbformat": 4,
  "nbformat_minor": 0,
  "metadata": {
    "colab": {
      "name": "Images.ipynb",
      "provenance": [],
      "authorship_tag": "ABX9TyP19U5RAf0qVWroNr3D2XHG",
      "include_colab_link": true
    },
    "kernelspec": {
      "name": "python3",
      "display_name": "Python 3"
    }
  },
  "cells": [
    {
      "cell_type": "markdown",
      "metadata": {
        "id": "view-in-github",
        "colab_type": "text"
      },
      "source": [
        "<a href=\"https://colab.research.google.com/github/venkatacrc/Notes/blob/master/ML_GCP/Images.ipynb\" target=\"_parent\"><img src=\"https://colab.research.google.com/assets/colab-badge.svg\" alt=\"Open In Colab\"/></a>"
      ]
    },
    {
      "cell_type": "markdown",
      "metadata": {
        "id": "iJ1RbqdSHQjq",
        "colab_type": "text"
      },
      "source": [
        "##[Image Understanding with TensorFlow on GCP](https://www.coursera.org/learn/image-understanding-tensorflow-gcp)\n",
        "\n",
        "Agenda:\n",
        "* Linear Models\n",
        "* Deep Neural Network Models\n",
        "* DNN Dropout\n",
        "* CNNs\n",
        "\n",
        "Image data represented as floating point numbers that can be flattened. Compare functions for model confidence in image classification using Softmax. Softmax function takes a vector of floating point values and converts them to probabilities.\n",
        "\n",
        "Lab: git clone https://github.com/GoogleCloudPlatform/training-data-analyst\n",
        "\n",
        "Notebook:  training-data-analyst > courses > machine_learning > deepdive > 08_image > mnist_linear.ipynb\n",
        "\n",
        "##[Sequence Models for Time Series and NLP](https://www.coursera.org/learn/sequence-models-tensorflow-gcp)\n",
        "\n",
        "* Working with Sequences\n",
        "* RNNs\n",
        "* LSTMs\n",
        "* Reusable Embeddings\n",
        "* Encoder-Decoder Models\n",
        "\n",
        "RNN\n",
        "![](https://drive.google.com/uc?id=1No0-maikVvQ7t4nh3aYS-F16Tmxsvzaa)\n",
        "\n",
        "![](https://drive.google.com/uc?id=1aMwBD-X7oa_QUStileEH_vRr4qtsmEA1)\n",
        "\n",
        "LSTM\n",
        "\n",
        "![](https://drive.google.com/uc?id=1irZsWVq6ewNzL9BMM2IjLk9rP0ltauSs)"
      ]
    }
  ]
}