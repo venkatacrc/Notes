{
  "nbformat": 4,
  "nbformat_minor": 0,
  "metadata": {
    "colab": {
      "name": "ProductionML.ipynb",
      "provenance": [],
      "include_colab_link": true
    },
    "kernelspec": {
      "name": "python3",
      "display_name": "Python 3"
    }
  },
  "cells": [
    {
      "cell_type": "markdown",
      "metadata": {
        "id": "view-in-github",
        "colab_type": "text"
      },
      "source": [
        "<a href=\"https://colab.research.google.com/github/venkatacrc/Notes/blob/master/ML_GCP/ProductionML.ipynb\" target=\"_parent\"><img src=\"https://colab.research.google.com/assets/colab-badge.svg\" alt=\"Open In Colab\"/></a>"
      ]
    },
    {
      "cell_type": "markdown",
      "metadata": {
        "id": "tMvleCa129Y2",
        "colab_type": "text"
      },
      "source": [
        "##Production ML Systems\n",
        "Source: [Production Machine Learning Systems](https://www.coursera.org/learn/gcp-production-ml-systems/)\n",
        "\n",
        "1. Architecting Production ML Systems\n",
        "1. Ingesting data for Cloud-based analytics and ML\n",
        "1. Designing Adaptable ML systems\n",
        "1. Designing High Performance ML Systems\n",
        "1. Hybrid ML Systems\n",
        "\n",
        "###Architecting Production ML Systems\n",
        "1. What's in a Production ML System\n",
        "  * Data Collection\n",
        "  * Data Verification\n",
        "  * Machine Resource Management\n",
        "  * Feature Extraction\n",
        "  * Process Management Tools\n",
        "  * Configuration\n",
        "  * Monitoring\n",
        "  * Analysis Tools\n",
        "  * Serving Infrastructure\n",
        "  * ML Code\n",
        "1. Training Design Decisions\n",
        "1. Serving Design Decisions\n",
        "1. Serving on CMLE (scalability)\n",
        "1. Designing an Architecture from Scratch\n",
        "\n",
        "Reuse generic software frameworks\n",
        "* TensorFlow\n",
        "* TF Serving\n",
        "* Apache Spark\n",
        "* Apache Beam\n",
        "Use managed services\n",
        "* Cloud Dataproc\n",
        "* Cloud Dataflow\n",
        "* Cloud ML Engine\n",
        "\n",
        "\n",
        "\n",
        "\n",
        "\n"
      ]
    },
    {
      "cell_type": "markdown",
      "metadata": {
        "id": "QthLY0Yx5-WJ",
        "colab_type": "text"
      },
      "source": [
        "##The Components of an ML System\n",
        "\n",
        "###Data Ingestion\n",
        "\n",
        "**Streaming Data Ingestion Pipeline Architecture**\n",
        "\n",
        "$\n",
        "\\left.\\begin{array}{ccc}\n",
        "{Applications} \\\\\n",
        "{Devices} \\\\\n",
        "{Databases}\n",
        "\\end{array}\\right\\} \\rightarrow\n",
        "\\left.\\begin{array}{ccc}\n",
        "{(Ingest)}\\\\\n",
        "{Cloud Pub/Sub}\n",
        "\\end{array}\\right\\} \\rightarrow\n",
        "\\left.\\begin{array}{ccc}\n",
        "{(Process)}\\\\\n",
        "{Cloud Dataflow}\n",
        "\\end{array}\\right\\} \\rightarrow \\left\\{ \n",
        "\\begin{array}{ccc}\n",
        "{(Analyze)}\\\\\n",
        "{Data Studio | Third Party Tools}\\\\\n",
        "{\\uparrow} \\\\\n",
        "{Cloud BigQuery} \\mapsto {Data Warehouse}\\\\ \n",
        "{Cloud MLE} \\mapsto {Predictive Analytics}\\\\\n",
        "{Cloud BigTable} \\mapsto {Caching \\& Serving} \n",
        "\\end{array}\\right.$"
      ]
    },
    {
      "cell_type": "markdown",
      "metadata": {
        "id": "6smb8NTE92YY",
        "colab_type": "text"
      },
      "source": [
        ""
      ]
    }
  ]
}