{
  "nbformat": 4,
  "nbformat_minor": 0,
  "metadata": {
    "colab": {
      "name": "Probability.ipynb",
      "provenance": [],
      "include_colab_link": true
    },
    "kernelspec": {
      "name": "python3",
      "display_name": "Python 3"
    }
  },
  "cells": [
    {
      "cell_type": "markdown",
      "metadata": {
        "id": "view-in-github",
        "colab_type": "text"
      },
      "source": [
        "<a href=\"https://colab.research.google.com/github/venkatacrc/Notes/blob/master/Probability/Probability.ipynb\" target=\"_parent\"><img src=\"https://colab.research.google.com/assets/colab-badge.svg\" alt=\"Open In Colab\"/></a>"
      ]
    },
    {
      "cell_type": "markdown",
      "metadata": {
        "id": "Fcuer3NzUtp9",
        "colab_type": "text"
      },
      "source": [
        "#Probablity Fundamentals\n",
        "\n",
        "Probability Fundamentals AWS Machine Learning Course from Brent Werness.\n",
        "\n",
        "---\n",
        "Probability enables machines to manage outcomes and outputs.\n",
        "\n",
        "Topics:\n",
        "* Axioms of probability\n",
        "* Probability represented using Venn diagrams\n",
        "* Conditional probability\n",
        "* Baye's rule\n",
        "* Independent events and notation\n",
        "* Random variables\n",
        "* Chebyshev's inequality\n",
        "* Entropy\n",
        "* Continuous random variables and probability density function\n",
        "* The gaussian curve\n",
        "* Building machine learning models"
      ]
    },
    {
      "cell_type": "markdown",
      "metadata": {
        "id": "uJCo1OfCdRz2",
        "colab_type": "text"
      },
      "source": [
        "## Intuition\n",
        "Probability theory is used to model systems where the outcomes are either:\n",
        "* inherently random (or)\n",
        "* simply **too complex** to be completely known\n",
        "\n",
        "### Motivating example: Rolling a die\n",
        "When you roll a die, you could **in theory** know enough about it to perfectly predict the outcome will be (by modeling force exerted, angle of projection, velocities, material and shape of die, friction and surface type etc.). However this **can never be done in practice**. In order to perfectly predict we have to know exactly what is going on, but we can't do that. We think the model in our minds the dice roll is random and each side is equally likely. So we can summarize the dice roll as I don't know what the answer is so I will assume to be random over set if all possible outcomes.\n",
        "\n",
        "When you are looking at some possible event, the **probability** of the event encodes the fraction of **time** that the outcome would occur with **repeated experiments**.\n",
        "\n",
        "\n",
        "  \n"
      ]
    },
    {
      "cell_type": "markdown",
      "metadata": {
        "id": "3zke81YMiWvj",
        "colab_type": "text"
      },
      "source": [
        "## Probability Terminology\n",
        "\n",
        "###Coin Flip Example\n",
        "Suppose I flip three coins. What is the probability that I get **exactly** two heads?\n",
        "There are 3 combinations that can produce exactly 2 heads. Those are HHT, HTH, and THH 3 possibilities out of 8 resulting in the probability 3/8.\n",
        "###Definitions\n",
        "* Outcome\n",
        "> A single possibility from the experiment.\n",
        "* Sample space\n",
        "> The set of all possible outcomes.\n",
        "> $\\Omega = \\{HHH,HHT, HTH, HTT, THH, THT, TTH, TTT\\}$\n",
        "* Event\n",
        "> Is a subset of your sample space that corresponds to something you can observe with yes/no answer.\n",
        "> $E=\\{ Exactly\\ 2\\ heads\\} = \\{HHT, HTH, THH\\}$\n",
        "* Probability\n",
        "> Fraction of an experiment where an event occurs.\n",
        ">$\\mathbb{P}\\{E\\} \\longleftarrow$ Probability (Fraction of times) we see the event E. $\\mathbb{P}\\{E\\} \\in[0,1]$.\n",
        "\n",
        "\n"
      ]
    },
    {
      "cell_type": "markdown",
      "metadata": {
        "id": "fogItO_u5lRz",
        "colab_type": "text"
      },
      "source": [
        "## Axioms of Probability\n",
        "###Axiom #1\n",
        "The fraction of the time an event occurs is between 0 and 1.\n",
        ">$\\mathbb{P}\\{E\\} \\in[0,1]$\n",
        "\n",
        "###Axiom #2\n",
        "Something always happens. Probability of observing one of the possible outcomes is equal to 1. \n",
        ">$\\mathbb{P}\\{\\Omega\\}$ = 1\n",
        "\n",
        "###Axiom #3\n",
        "If two events can't happen at the same time, then the fraction of the time that at least *one* of them occurs is the sum of the fraction of the time either one occurs separately.\n",
        "> Example: Two disjoint events E1 = {First coin is H} and E2 = {First coin is T}\n",
        "> $E1\\ \\cap\\ E2 = \\Phi$ (set with no elements)\n",
        "> $\\mathbb{P}\\{E1\\ \\cup\\ E2\\} = \\mathbb{P}\\{E1\\} + \\mathbb{P}\\{E2\\}$ = 1\n",
        "This Axiom works for any number of events (including coutably infinite)\n",
        ">$\\mathbb{P}\\{\\bigcup\\limits_{i} E_{i}\\} = \\sum\\limits_{i}\\mathbb{P}\\{E_{i}\\}$\n"
      ]
    },
    {
      "cell_type": "markdown",
      "metadata": {
        "id": "qJl5l9e5Ww9X",
        "colab_type": "text"
      },
      "source": [
        "\n",
        "## Probability visualization\n",
        "Probabiliy | Geometry\n",
        "--- | ---\n",
        "$\\Omega$ | Region\n",
        "Outcomes | Points\n",
        "Events | Subregion\n",
        "Disjoint Events | Disjoint Subregion\n",
        "$\\mathbb{P}$ | Area\n",
        "$\\mathbb{P}\\{\\Omega\\}$ | Area($\\Box$)\n",
        "\n",
        "\n",
        "\n",
        "\n"
      ]
    },
    {
      "cell_type": "markdown",
      "metadata": {
        "id": "_3BYvahDcpIJ",
        "colab_type": "text"
      },
      "source": [
        "## Inclusion and Exclusion Principle\n",
        "As long as the events are disjoint we can add up their probabilities. What is the probability of $E1 \\cup E2$ when they are not disjoint?\n",
        ">$\\mathbb{P}\\{E1 \\cup E2\\} = \\mathbb{P}\\{E1\\} + \\mathbb{P}\\{E2\\} - \\mathbb{P}\\{E1\\cap E2\\}$\n",
        "\n",
        ">$\\mathbb{P}\\{E1 \\cup E2 \\cup E3\\} = \\mathbb{P}\\{E1\\} + \\mathbb{P}\\{E2\\} + \\mathbb{P}\\{E3\\} - \\mathbb{P}\\{E1\\cap E2\\} - \\mathbb{P}\\{E2\\cap E3\\} - \\mathbb{P}\\{E1\\cap E3\\} + \\mathbb{P}\\{E1\\cap E2 \\cap E3\\}$"
      ]
    },
    {
      "cell_type": "markdown",
      "metadata": {
        "id": "RXpW-muNfC5W",
        "colab_type": "text"
      },
      "source": [
        "## Conitional Probability\n",
        "Motivation: To include partial information\n",
        "When you're certain about the outcome of one event, conditional probability helps identify the fractional outcome of a second event. \n",
        "If you have 2 events E1 and E2 and know for certain E2 has occured. \n",
        "Given E2 occured, What is the probability E1 occured?\n",
        ">$\\mathbb{P}${seeing E1 | given saw E2} = Fraction of the area of E2 which is occupied by E1  = Area of E1 $\\cap$ E2 / Area of E2\n",
        "This can be interpreted as the faction of events that E1 occurs when E2 occurs.\n",
        "### Definition\n",
        "The probability of E1 given E2 is: \n",
        ">$\\mathbb{P}\\{E1|E2\\} = \\frac{\\mathbb{P}\\{E1 \\cap E2\\}}{\\mathbb{P}\\{E2\\}}$ \n",
        "\n",
        "Example1: Suppose you flip two coins. What is the probability that both are heads, given that you know at least one of them is heads? \n",
        "> $\\mathbb{P}\\{HH|\\ge1\\ H\\} =\\frac{\\mathbb{P}\\{HH\\}\\cap\\mathbb{P}\\{\\ge1H\\}}{\\mathbb{P}\\{\\ge1H\\}} = \\frac{\\mathbb{P}\\{HH\\}}{\\mathbb{P}\\{\\ge1H\\}} = \\frac{\\frac{1}{4}}{\\frac{3}{4}} =\\frac{1}{3}$\n",
        "\n",
        "Example2: Suppose you flip two coins. What is the probability that both are heads, given that the first coin is head?\n",
        "\n",
        "> $\\mathbb{P}\\{HH|first\\ coin\\ H\\} =\\frac{1}{2}$\n",
        "\n",
        "\n"
      ]
    },
    {
      "cell_type": "markdown",
      "metadata": {
        "id": "2iaJyfuico4P",
        "colab_type": "text"
      },
      "source": [
        "## Bayes' Rule\n",
        "How you can use new information to gauge the probability of various events.\n",
        "\n",
        "Bayes' Rule can be leveraged to understand **completing hypotheses**. Suppose you have two hypotheses, $H_1$ and $H_2$ and you have some prior belief about the odds that each is true. If you observe some data, how do you understand the **new odds** of the two hypotheses under the new data?\n",
        "\n",
        ">$\\frac{\\mathbb{P}(H_1|D)}{\\mathbb{P}(H_2|D)} = \\frac{\\frac{\\mathbb{P}(H_1\\cap D)}{\\mathbb{P}(D)}}{\\frac{\\mathbb{P}(H_2\\cap D)}{\\mathbb{P}(D)}} = \\frac{\\mathbb{P}(H_1\\cap D)}{\\mathbb{P}(H_2\\cap D)} = \\frac{\\frac{\\mathbb{P}(H_1\\cap D)}{\\mathbb{P}(H_1)}}{\\frac{\\mathbb{P}(H_2\\cap D)}{\\mathbb{P}(H_2)}}.\\frac{\\mathbb{P}(H_1)}{\\mathbb{P}(H_2)} = \\frac{\\mathbb{P}(D|H_1)}{\\mathbb{P}(D|H_2)}.\\frac{\\mathbb{P}(H_1)}{\\mathbb{P}(H_2)} $\n",
        "\n",
        ">$\\frac{\\mathbb{P}(H_1|D)}{\\mathbb{P}(H_2|D)} = \\frac{\\mathbb{P}(D|H_1)}{\\mathbb{P}(D|H_2)}.\\frac{\\mathbb{P}(H_1)}{\\mathbb{P}(H_2)} $\n",
        "\n",
        "Posterior odds = Ratio of probability of generating data * Prior odds\n",
        "\n",
        "Example: Suppose I have a bag with 2 dice. The red one is fair, the blue one is only ones. I draw a random die, roll it, and get a one. What is the probability I drew the fair die?\n",
        "\n",
        "H1 = Blue die\n",
        "H2 = Red die\n",
        "D = rolled a 1\n",
        "\n",
        ">$\\frac{\\mathbb{P}(H_1|D)}{\\mathbb{P}(H_2|D)} = \\frac{\\mathbb{P}(D|H_1)}{\\mathbb{P}(D|H_2)}.\\frac{\\mathbb{P}(H_1)}{\\mathbb{P}(H_2)} = \\frac{1}{\\frac{1}{6}}.\\frac{1}{1} = \\frac{6}{1}$\n",
        "\n",
        ">${\\mathbb{P}(H_1|D)} = \\frac{6}{7}$\n",
        "\n",
        ">${\\mathbb{P}(H_2|D)} = \\frac{1}{7}$\n",
        "  "
      ]
    },
    {
      "cell_type": "markdown",
      "metadata": {
        "id": "UhVBdwtUBQlp",
        "colab_type": "text"
      },
      "source": [
        ""
      ]
    }
  ]
}