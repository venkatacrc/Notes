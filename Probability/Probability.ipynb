{
  "nbformat": 4,
  "nbformat_minor": 0,
  "metadata": {
    "colab": {
      "name": "Probability.ipynb",
      "provenance": [],
      "include_colab_link": true
    },
    "kernelspec": {
      "name": "python3",
      "display_name": "Python 3"
    }
  },
  "cells": [
    {
      "cell_type": "markdown",
      "metadata": {
        "id": "view-in-github",
        "colab_type": "text"
      },
      "source": [
        "<a href=\"https://colab.research.google.com/github/venkatacrc/Notes/blob/master/Probability/Probability.ipynb\" target=\"_parent\"><img src=\"https://colab.research.google.com/assets/colab-badge.svg\" alt=\"Open In Colab\"/></a>"
      ]
    },
    {
      "cell_type": "markdown",
      "metadata": {
        "id": "Fcuer3NzUtp9",
        "colab_type": "text"
      },
      "source": [
        "#Probablity Fundamentals\n",
        "\n",
        "Probability Fundamentals AWS Machine Learning Course from Brent Werness.\n",
        "\n",
        "---\n",
        "Probability enables machines to manage outcomes and outputs.\n",
        "\n",
        "Topics:"
      ]
    },
    {
      "cell_type": "code",
      "metadata": {
        "id": "jmXB0WtfY8-l",
        "colab_type": "code",
        "colab": {}
      },
      "source": [
        ""
      ],
      "execution_count": 0,
      "outputs": []
    }
  ]
}