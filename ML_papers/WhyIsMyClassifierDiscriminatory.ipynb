{
  "nbformat": 4,
  "nbformat_minor": 0,
  "metadata": {
    "colab": {
      "name": "WhyIsMyClassifierDiscriminatory.ipynb",
      "provenance": [],
      "include_colab_link": true
    },
    "kernelspec": {
      "name": "python3",
      "display_name": "Python 3"
    }
  },
  "cells": [
    {
      "cell_type": "markdown",
      "metadata": {
        "id": "view-in-github",
        "colab_type": "text"
      },
      "source": [
        "<a href=\"https://colab.research.google.com/github/venkatacrc/Notes/blob/master/ML_papers/WhyIsMyClassifierDiscriminatory.ipynb\" target=\"_parent\"><img src=\"https://colab.research.google.com/assets/colab-badge.svg\" alt=\"Open In Colab\"/></a>"
      ]
    },
    {
      "cell_type": "markdown",
      "metadata": {
        "id": "TE1j4N3jI7vn",
        "colab_type": "text"
      },
      "source": [
        "# Why Is My Classifier Discriminatory?\n",
        "\n",
        "Source: [Why Is My Classifier Discriminatory?](https://youtu.be/kLUc1bG2rv4)\n",
        "\n",
        "### Fairness definition\n",
        "In the context of **loss functions** like false positive rate, false negative rate, etc.\n",
        "\n",
        "For example, acuracy for data D and prediction $\\hat Y$:\n",
        "\n",
        "$\\gamma_a(\\hat Y, Y, D) := P_D(\\hat Y \\neq Y | A = a)$\n",
        "\n",
        "Formalizing **unfairness as group differences**\n",
        "\n",
        "$\\bar \\Gamma(\\hat Y) := |\\gamma_1 - \\gamma_0|$\n",
        "\n",
        "**Theorem 1:** For error over group a given predictor $\\hat Y$:\n",
        "\n",
        "$\\bar\\gamma(\\hat Y) = \\bar B_a(\\hat Y) + \\bar V_a(\\hat Y) + \\bar N_a$\n",
        "\n",
        "Note that $\\bar N_a$ indicates the expectation of $N_a$ over X and data D.\n",
        "\n",
        "Accordingly, The expected discrimination level $\\bar \\Gamma(\\hat Y) := |\\gamma_1 - \\gamma_0|$ can be decomposed into differences in bias, differences in variance, and differences in noise.\n",
        "\n",
        "$\\bar\\gamma = |(\\bar B_1 - \\bar B_0)| + |(\\bar V_1 - \\bar V_0)| + |(\\bar N_1 - \\bar N_0)|$\n",
        "\n",
        "From MIMIC-III clinical data:\n",
        "* Found statistically significant racial differences in zero-one loss\n",
        "* By subsampling data, fitted inverse power loss to estimate the benefit of moredata and reducing variance\n",
        "* Using topic modeling, identified subpopulations to gather more features to reduce noise\n",
        "\n"
      ]
    }
  ]
}