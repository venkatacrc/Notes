{
  "nbformat": 4,
  "nbformat_minor": 0,
  "metadata": {
    "colab": {
      "name": "HRInterviewQs.ipynb",
      "provenance": [],
      "include_colab_link": true
    },
    "kernelspec": {
      "name": "python3",
      "display_name": "Python 3"
    }
  },
  "cells": [
    {
      "cell_type": "markdown",
      "metadata": {
        "id": "view-in-github",
        "colab_type": "text"
      },
      "source": [
        "<a href=\"https://colab.research.google.com/github/venkatacrc/Notes/blob/master/Softskills/HRInterviewQs.ipynb\" target=\"_parent\"><img src=\"https://colab.research.google.com/assets/colab-badge.svg\" alt=\"Open In Colab\"/></a>"
      ]
    },
    {
      "cell_type": "markdown",
      "metadata": {
        "id": "i0UI-iqjiRvX",
        "colab_type": "text"
      },
      "source": [
        "#Common Interview Questions\n",
        "Source:[Common Interview Questions](https://www.linkedin.com/interview-prep/assessments/urn:li:fs_assessment:(1,a)/question/urn:li:fs_assessmentQuestion:(10026,aq26)/)\n",
        "\n",
        "1. Tell me about yourself?\n",
        "\n",
        "  >* Go with the SHE(Succinct, Honest, and Engaging) formula.  The intervewer looking for an answer that provides direct evidence that you're qualified, also want to see how well you do with an unstructured question. \n",
        "  * Try using the job description to prepare and highlight a few of the most prominent required skills (that you possess). Brainstomr how to describe yourself also showcasing your strengths in those very things that the employer is seeking.\n",
        "  * Tie your story back to the job, make it succint, and be truthful.\n",
        "\n",
        "1. What is your gretest strength?\n",
        "\n",
        "  >Sound humble.\n",
        "  * Choose relevant and specific experience.\n",
        "  * Be specific about the outcome\n",
        "  * Use soft (effective communication) and technical skills(project plan) to tell the story\n",
        "\n",
        "1. What is your gretest weakness?\n",
        "\n",
        "  >* Be humble and self-aware (authentic story)\n",
        "  * Don't select the weakness that disqualifies you from the job.\n",
        "  * Have a fix-it strategy\n",
        "\n",
        "1. Why Should we hire you?\n",
        "  > * Match your strengths with the job description.\n",
        "  * Start paint a picture.\n",
        "  * Being part of the team cultural fit vision and mission.\n",
        "  * Be authentic\n",
        "1. Why do you want to work here?\n",
        "  > * Make it about them first\n",
        "  * Then share what you want leave this in the context of your contributions\n",
        "  * Speak from the heart\n",
        "\n",
        "1. \n",
        "\n",
        "\n",
        "\n"
      ]
    }
  ]
}